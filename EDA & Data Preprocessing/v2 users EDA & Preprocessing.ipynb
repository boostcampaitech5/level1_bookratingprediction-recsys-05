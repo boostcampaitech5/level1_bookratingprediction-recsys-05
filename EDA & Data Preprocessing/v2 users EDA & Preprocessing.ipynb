{
 "cells": [
  {
   "cell_type": "markdown",
   "metadata": {
    "id": "HPkQcjgasR2-"
   },
   "source": [
    "# Data"
   ]
  },
  {
   "cell_type": "code",
   "execution_count": 1,
   "metadata": {
    "id": "lVEmDp_FlyPW",
    "tags": []
   },
   "outputs": [],
   "source": [
    "import pandas as pd\n",
    "import numpy as np\n",
    "import seaborn as sns\n",
    "import matplotlib.pyplot as plt"
   ]
  },
  {
   "cell_type": "code",
   "execution_count": 2,
   "metadata": {
    "colab": {
     "base_uri": "https://localhost:8080/"
    },
    "executionInfo": {
     "elapsed": 908,
     "status": "ok",
     "timestamp": 1681447838194,
     "user": {
      "displayName": "박예림",
      "userId": "02538636255865811244"
     },
     "user_tz": -540
    },
    "id": "WN-q4u-8nCIe",
    "outputId": "fe8e6e65-b767-41b5-98d3-1ea9cf93c13e",
    "tags": []
   },
   "outputs": [
    {
     "name": "stdout",
     "output_type": "stream",
     "text": [
      "users shape:  (68092, 3)\n",
      "books shape:  (149570, 10)\n",
      "train_ratings shape:  (306795, 3)\n",
      "test_ratings shape:  (76699, 3)\n"
     ]
    }
   ],
   "source": [
    "path='../../data/'\n",
    "\n",
    "users = pd.read_csv(path+'users.csv')\n",
    "books = pd.read_csv(path+'books.csv')\n",
    "train_ratings = pd.read_csv(path+'train_ratings.csv')\n",
    "test_ratings = pd.read_csv(path+'test_ratings.csv')\n",
    "\n",
    "print('users shape: ', users.shape)\n",
    "print('books shape: ', books.shape)\n",
    "print('train_ratings shape: ', train_ratings.shape)\n",
    "print('test_ratings shape: ', test_ratings.shape)"
   ]
  },
  {
   "cell_type": "markdown",
   "metadata": {},
   "source": [
    "# users"
   ]
  },
  {
   "cell_type": "markdown",
   "metadata": {
    "jp-MarkdownHeadingCollapsed": true,
    "tags": []
   },
   "source": [
    "## users 데이터 확인 [선택 실행]"
   ]
  },
  {
   "cell_type": "code",
   "execution_count": 3,
   "metadata": {
    "colab": {
     "base_uri": "https://localhost:8080/",
     "height": 206
    },
    "executionInfo": {
     "elapsed": 15,
     "status": "ok",
     "timestamp": 1681399532434,
     "user": {
      "displayName": "박예림",
      "userId": "02538636255865811244"
     },
     "user_tz": -540
    },
    "id": "PLq-4tLinF2z",
    "outputId": "320703a0-1c9b-4097-f2f2-c1da8bb6b3c7",
    "tags": []
   },
   "outputs": [
    {
     "data": {
      "text/html": [
       "<div>\n",
       "<style scoped>\n",
       "    .dataframe tbody tr th:only-of-type {\n",
       "        vertical-align: middle;\n",
       "    }\n",
       "\n",
       "    .dataframe tbody tr th {\n",
       "        vertical-align: top;\n",
       "    }\n",
       "\n",
       "    .dataframe thead th {\n",
       "        text-align: right;\n",
       "    }\n",
       "</style>\n",
       "<table border=\"1\" class=\"dataframe\">\n",
       "  <thead>\n",
       "    <tr style=\"text-align: right;\">\n",
       "      <th></th>\n",
       "      <th>user_id</th>\n",
       "      <th>location</th>\n",
       "      <th>age</th>\n",
       "    </tr>\n",
       "  </thead>\n",
       "  <tbody>\n",
       "    <tr>\n",
       "      <th>0</th>\n",
       "      <td>8</td>\n",
       "      <td>timmins, ontario, canada</td>\n",
       "      <td>NaN</td>\n",
       "    </tr>\n",
       "    <tr>\n",
       "      <th>1</th>\n",
       "      <td>11400</td>\n",
       "      <td>ottawa, ontario, canada</td>\n",
       "      <td>49.0</td>\n",
       "    </tr>\n",
       "    <tr>\n",
       "      <th>2</th>\n",
       "      <td>11676</td>\n",
       "      <td>n/a, n/a, n/a</td>\n",
       "      <td>NaN</td>\n",
       "    </tr>\n",
       "    <tr>\n",
       "      <th>3</th>\n",
       "      <td>67544</td>\n",
       "      <td>toronto, ontario, canada</td>\n",
       "      <td>30.0</td>\n",
       "    </tr>\n",
       "    <tr>\n",
       "      <th>4</th>\n",
       "      <td>85526</td>\n",
       "      <td>victoria, british columbia, canada</td>\n",
       "      <td>36.0</td>\n",
       "    </tr>\n",
       "  </tbody>\n",
       "</table>\n",
       "</div>"
      ],
      "text/plain": [
       "   user_id                            location   age\n",
       "0        8            timmins, ontario, canada   NaN\n",
       "1    11400             ottawa, ontario, canada  49.0\n",
       "2    11676                       n/a, n/a, n/a   NaN\n",
       "3    67544            toronto, ontario, canada  30.0\n",
       "4    85526  victoria, british columbia, canada  36.0"
      ]
     },
     "execution_count": 3,
     "metadata": {},
     "output_type": "execute_result"
    }
   ],
   "source": [
    "users.head()"
   ]
  },
  {
   "cell_type": "code",
   "execution_count": 4,
   "metadata": {
    "colab": {
     "base_uri": "https://localhost:8080/"
    },
    "executionInfo": {
     "elapsed": 14,
     "status": "ok",
     "timestamp": 1681399532434,
     "user": {
      "displayName": "박예림",
      "userId": "02538636255865811244"
     },
     "user_tz": -540
    },
    "id": "nH_iuxAOwCj5",
    "outputId": "4925ddda-ecf6-45ef-b82d-fe37b88650fd",
    "tags": []
   },
   "outputs": [
    {
     "name": "stdout",
     "output_type": "stream",
     "text": [
      "<class 'pandas.core.frame.DataFrame'>\n",
      "RangeIndex: 68092 entries, 0 to 68091\n",
      "Data columns (total 3 columns):\n",
      " #   Column    Non-Null Count  Dtype  \n",
      "---  ------    --------------  -----  \n",
      " 0   user_id   68092 non-null  int64  \n",
      " 1   location  68092 non-null  object \n",
      " 2   age       40259 non-null  float64\n",
      "dtypes: float64(1), int64(1), object(1)\n",
      "memory usage: 1.6+ MB\n"
     ]
    }
   ],
   "source": [
    "users.info()"
   ]
  },
  {
   "cell_type": "code",
   "execution_count": 5,
   "metadata": {
    "colab": {
     "base_uri": "https://localhost:8080/",
     "height": 112
    },
    "executionInfo": {
     "elapsed": 11,
     "status": "ok",
     "timestamp": 1681399532434,
     "user": {
      "displayName": "박예림",
      "userId": "02538636255865811244"
     },
     "user_tz": -540
    },
    "id": "XcCDyRz3wDG4",
    "outputId": "cbe60272-f5bf-4a1e-840a-48f523e21f8c",
    "tags": []
   },
   "outputs": [
    {
     "data": {
      "text/html": [
       "<div>\n",
       "<style scoped>\n",
       "    .dataframe tbody tr th:only-of-type {\n",
       "        vertical-align: middle;\n",
       "    }\n",
       "\n",
       "    .dataframe tbody tr th {\n",
       "        vertical-align: top;\n",
       "    }\n",
       "\n",
       "    .dataframe thead th {\n",
       "        text-align: right;\n",
       "    }\n",
       "</style>\n",
       "<table border=\"1\" class=\"dataframe\">\n",
       "  <thead>\n",
       "    <tr style=\"text-align: right;\">\n",
       "      <th></th>\n",
       "      <th>count</th>\n",
       "      <th>mean</th>\n",
       "      <th>std</th>\n",
       "      <th>min</th>\n",
       "      <th>25%</th>\n",
       "      <th>50%</th>\n",
       "      <th>75%</th>\n",
       "      <th>max</th>\n",
       "    </tr>\n",
       "  </thead>\n",
       "  <tbody>\n",
       "    <tr>\n",
       "      <th>user_id</th>\n",
       "      <td>68092.0</td>\n",
       "      <td>139381.329539</td>\n",
       "      <td>80523.969862</td>\n",
       "      <td>8.0</td>\n",
       "      <td>69008.75</td>\n",
       "      <td>138845.5</td>\n",
       "      <td>209388.25</td>\n",
       "      <td>278854.0</td>\n",
       "    </tr>\n",
       "    <tr>\n",
       "      <th>age</th>\n",
       "      <td>40259.0</td>\n",
       "      <td>36.069873</td>\n",
       "      <td>13.842571</td>\n",
       "      <td>5.0</td>\n",
       "      <td>25.00</td>\n",
       "      <td>34.0</td>\n",
       "      <td>45.00</td>\n",
       "      <td>99.0</td>\n",
       "    </tr>\n",
       "  </tbody>\n",
       "</table>\n",
       "</div>"
      ],
      "text/plain": [
       "           count           mean           std  min       25%       50%   \n",
       "user_id  68092.0  139381.329539  80523.969862  8.0  69008.75  138845.5  \\\n",
       "age      40259.0      36.069873     13.842571  5.0     25.00      34.0   \n",
       "\n",
       "               75%       max  \n",
       "user_id  209388.25  278854.0  \n",
       "age          45.00      99.0  "
      ]
     },
     "execution_count": 5,
     "metadata": {},
     "output_type": "execute_result"
    }
   ],
   "source": [
    "users.describe().T"
   ]
  },
  {
   "cell_type": "code",
   "execution_count": 6,
   "metadata": {
    "colab": {
     "base_uri": "https://localhost:8080/"
    },
    "executionInfo": {
     "elapsed": 12,
     "status": "ok",
     "timestamp": 1681399532435,
     "user": {
      "displayName": "박예림",
      "userId": "02538636255865811244"
     },
     "user_tz": -540
    },
    "id": "Ft8byhN8tgVf",
    "outputId": "279e3317-0e83-42ba-c2d5-91f70a26bf93",
    "tags": []
   },
   "outputs": [
    {
     "data": {
      "text/plain": [
       "68092"
      ]
     },
     "execution_count": 6,
     "metadata": {},
     "output_type": "execute_result"
    }
   ],
   "source": [
    "users['user_id'].nunique()"
   ]
  },
  {
   "cell_type": "code",
   "execution_count": 7,
   "metadata": {
    "colab": {
     "base_uri": "https://localhost:8080/"
    },
    "executionInfo": {
     "elapsed": 10,
     "status": "ok",
     "timestamp": 1681399532435,
     "user": {
      "displayName": "박예림",
      "userId": "02538636255865811244"
     },
     "user_tz": -540
    },
    "id": "OGjXwP75Zzf-",
    "outputId": "02b71f7c-34ca-4e4a-9d44-5e0e27d1328b",
    "tags": []
   },
   "outputs": [
    {
     "data": {
      "text/plain": [
       "user_id     0.000000\n",
       "location    0.000000\n",
       "age         0.408756\n",
       "dtype: float64"
      ]
     },
     "execution_count": 7,
     "metadata": {},
     "output_type": "execute_result"
    }
   ],
   "source": [
    "users.isna().sum()/len(users)"
   ]
  },
  {
   "cell_type": "markdown",
   "metadata": {
    "id": "iYEGlYk_uWqF"
   },
   "source": [
    "age에서 결측값 비율이 높은 걸 확인 가능합니다."
   ]
  },
  {
   "cell_type": "markdown",
   "metadata": {
    "tags": []
   },
   "source": [
    "## location 분해"
   ]
  },
  {
   "cell_type": "code",
   "execution_count": 3,
   "metadata": {
    "tags": []
   },
   "outputs": [],
   "source": [
    "# 특수문자 제거\n",
    "import re\n",
    "users['location'] = [re.sub(r'[^0-9a-zA-Z:,]', '', l) for l in users['location'].values]"
   ]
  },
  {
   "cell_type": "code",
   "execution_count": 4,
   "metadata": {
    "colab": {
     "base_uri": "https://localhost:8080/"
    },
    "executionInfo": {
     "elapsed": 1428,
     "status": "ok",
     "timestamp": 1681440401710,
     "user": {
      "displayName": "박예림",
      "userId": "02538636255865811244"
     },
     "user_tz": -540
    },
    "id": "W-FuURF_t-Br",
    "outputId": "edc7a59c-73d0-477e-e922-fffe793121f2",
    "tags": []
   },
   "outputs": [],
   "source": [
    "users['location_city'] = users['location'].apply(lambda x: x.split(',')[0].strip())\n",
    "users['location_state'] = users['location'].apply(lambda x: x.split(',')[1].strip())\n",
    "users['location_country'] = users['location'].apply(lambda x: x.split(',')[2].strip())\n",
    "\n",
    "users = users.replace('na', np.nan) #특수문자 제거로 n/a가 na로 바뀌게 되었습니다. 따라서 이를 컴퓨터가 인식할 수 있는 결측값으로 변환합니다.\n",
    "users = users.replace('', np.nan) # 일부 경우 , , ,으로 입력된 경우가 있었으므로 이런 경우에도 결측값으로 변환합니다."
   ]
  },
  {
   "cell_type": "code",
   "execution_count": 5,
   "metadata": {
    "colab": {
     "base_uri": "https://localhost:8080/",
     "height": 270
    },
    "executionInfo": {
     "elapsed": 964,
     "status": "ok",
     "timestamp": 1681440405941,
     "user": {
      "displayName": "박예림",
      "userId": "02538636255865811244"
     },
     "user_tz": -540
    },
    "id": "wmMXWj02wvIl",
    "outputId": "2fa93c38-f7ad-4fcf-e78e-bbe8aea23731",
    "tags": []
   },
   "outputs": [
    {
     "data": {
      "text/html": [
       "<div>\n",
       "<style scoped>\n",
       "    .dataframe tbody tr th:only-of-type {\n",
       "        vertical-align: middle;\n",
       "    }\n",
       "\n",
       "    .dataframe tbody tr th {\n",
       "        vertical-align: top;\n",
       "    }\n",
       "\n",
       "    .dataframe thead th {\n",
       "        text-align: right;\n",
       "    }\n",
       "</style>\n",
       "<table border=\"1\" class=\"dataframe\">\n",
       "  <thead>\n",
       "    <tr style=\"text-align: right;\">\n",
       "      <th></th>\n",
       "      <th>user_id</th>\n",
       "      <th>location</th>\n",
       "      <th>age</th>\n",
       "      <th>location_city</th>\n",
       "      <th>location_state</th>\n",
       "      <th>location_country</th>\n",
       "    </tr>\n",
       "  </thead>\n",
       "  <tbody>\n",
       "    <tr>\n",
       "      <th>0</th>\n",
       "      <td>8</td>\n",
       "      <td>timmins,ontario,canada</td>\n",
       "      <td>NaN</td>\n",
       "      <td>timmins</td>\n",
       "      <td>ontario</td>\n",
       "      <td>canada</td>\n",
       "    </tr>\n",
       "    <tr>\n",
       "      <th>1</th>\n",
       "      <td>11400</td>\n",
       "      <td>ottawa,ontario,canada</td>\n",
       "      <td>49.0</td>\n",
       "      <td>ottawa</td>\n",
       "      <td>ontario</td>\n",
       "      <td>canada</td>\n",
       "    </tr>\n",
       "    <tr>\n",
       "      <th>2</th>\n",
       "      <td>11676</td>\n",
       "      <td>na,na,na</td>\n",
       "      <td>NaN</td>\n",
       "      <td>NaN</td>\n",
       "      <td>NaN</td>\n",
       "      <td>NaN</td>\n",
       "    </tr>\n",
       "    <tr>\n",
       "      <th>3</th>\n",
       "      <td>67544</td>\n",
       "      <td>toronto,ontario,canada</td>\n",
       "      <td>30.0</td>\n",
       "      <td>toronto</td>\n",
       "      <td>ontario</td>\n",
       "      <td>canada</td>\n",
       "    </tr>\n",
       "    <tr>\n",
       "      <th>4</th>\n",
       "      <td>85526</td>\n",
       "      <td>victoria,britishcolumbia,canada</td>\n",
       "      <td>36.0</td>\n",
       "      <td>victoria</td>\n",
       "      <td>britishcolumbia</td>\n",
       "      <td>canada</td>\n",
       "    </tr>\n",
       "  </tbody>\n",
       "</table>\n",
       "</div>"
      ],
      "text/plain": [
       "   user_id                         location   age location_city   \n",
       "0        8           timmins,ontario,canada   NaN       timmins  \\\n",
       "1    11400            ottawa,ontario,canada  49.0        ottawa   \n",
       "2    11676                         na,na,na   NaN           NaN   \n",
       "3    67544           toronto,ontario,canada  30.0       toronto   \n",
       "4    85526  victoria,britishcolumbia,canada  36.0      victoria   \n",
       "\n",
       "    location_state location_country  \n",
       "0          ontario           canada  \n",
       "1          ontario           canada  \n",
       "2              NaN              NaN  \n",
       "3          ontario           canada  \n",
       "4  britishcolumbia           canada  "
      ]
     },
     "execution_count": 5,
     "metadata": {},
     "output_type": "execute_result"
    }
   ],
   "source": [
    "users.head()"
   ]
  },
  {
   "cell_type": "code",
   "execution_count": 6,
   "metadata": {
    "colab": {
     "base_uri": "https://localhost:8080/"
    },
    "executionInfo": {
     "elapsed": 8,
     "status": "ok",
     "timestamp": 1681399532987,
     "user": {
      "displayName": "박예림",
      "userId": "02538636255865811244"
     },
     "user_tz": -540
    },
    "id": "k50SWdWsxKMI",
    "outputId": "bbb426d3-2a82-4726-f613-d632f40917d8",
    "tags": []
   },
   "outputs": [
    {
     "data": {
      "text/plain": [
       "user_id                 0\n",
       "location                0\n",
       "age                 27833\n",
       "location_city         122\n",
       "location_state       3254\n",
       "location_country     2124\n",
       "dtype: int64"
      ]
     },
     "execution_count": 6,
     "metadata": {},
     "output_type": "execute_result"
    }
   ],
   "source": [
    "users.isna().sum()"
   ]
  },
  {
   "cell_type": "code",
   "execution_count": 7,
   "metadata": {
    "colab": {
     "base_uri": "https://localhost:8080/",
     "height": 424
    },
    "executionInfo": {
     "elapsed": 6,
     "status": "ok",
     "timestamp": 1681399532987,
     "user": {
      "displayName": "박예림",
      "userId": "02538636255865811244"
     },
     "user_tz": -540
    },
    "id": "qNws99KsZBEQ",
    "outputId": "94d76d40-21a4-4684-8db0-be3c1a6775f1",
    "tags": []
   },
   "outputs": [
    {
     "data": {
      "text/html": [
       "<div>\n",
       "<style scoped>\n",
       "    .dataframe tbody tr th:only-of-type {\n",
       "        vertical-align: middle;\n",
       "    }\n",
       "\n",
       "    .dataframe tbody tr th {\n",
       "        vertical-align: top;\n",
       "    }\n",
       "\n",
       "    .dataframe thead th {\n",
       "        text-align: right;\n",
       "    }\n",
       "</style>\n",
       "<table border=\"1\" class=\"dataframe\">\n",
       "  <thead>\n",
       "    <tr style=\"text-align: right;\">\n",
       "      <th></th>\n",
       "      <th>user_id</th>\n",
       "      <th>location</th>\n",
       "      <th>age</th>\n",
       "      <th>location_city</th>\n",
       "      <th>location_state</th>\n",
       "      <th>location_country</th>\n",
       "    </tr>\n",
       "  </thead>\n",
       "  <tbody>\n",
       "    <tr>\n",
       "      <th>2</th>\n",
       "      <td>11676</td>\n",
       "      <td>na,na,na</td>\n",
       "      <td>NaN</td>\n",
       "      <td>NaN</td>\n",
       "      <td>NaN</td>\n",
       "      <td>NaN</td>\n",
       "    </tr>\n",
       "    <tr>\n",
       "      <th>6</th>\n",
       "      <td>116866</td>\n",
       "      <td>ottawa,,</td>\n",
       "      <td>NaN</td>\n",
       "      <td>ottawa</td>\n",
       "      <td>NaN</td>\n",
       "      <td>NaN</td>\n",
       "    </tr>\n",
       "    <tr>\n",
       "      <th>32</th>\n",
       "      <td>115097</td>\n",
       "      <td>seattle,,</td>\n",
       "      <td>27.0</td>\n",
       "      <td>seattle</td>\n",
       "      <td>NaN</td>\n",
       "      <td>NaN</td>\n",
       "    </tr>\n",
       "    <tr>\n",
       "      <th>49</th>\n",
       "      <td>245827</td>\n",
       "      <td>albuquerque,,</td>\n",
       "      <td>NaN</td>\n",
       "      <td>albuquerque</td>\n",
       "      <td>NaN</td>\n",
       "      <td>NaN</td>\n",
       "    </tr>\n",
       "    <tr>\n",
       "      <th>72</th>\n",
       "      <td>226745</td>\n",
       "      <td>humble,,</td>\n",
       "      <td>38.0</td>\n",
       "      <td>humble</td>\n",
       "      <td>NaN</td>\n",
       "      <td>NaN</td>\n",
       "    </tr>\n",
       "    <tr>\n",
       "      <th>...</th>\n",
       "      <td>...</td>\n",
       "      <td>...</td>\n",
       "      <td>...</td>\n",
       "      <td>...</td>\n",
       "      <td>...</td>\n",
       "      <td>...</td>\n",
       "    </tr>\n",
       "    <tr>\n",
       "      <th>67797</th>\n",
       "      <td>257311</td>\n",
       "      <td>lisbon,maine,</td>\n",
       "      <td>36.0</td>\n",
       "      <td>lisbon</td>\n",
       "      <td>maine</td>\n",
       "      <td>NaN</td>\n",
       "    </tr>\n",
       "    <tr>\n",
       "      <th>67929</th>\n",
       "      <td>267240</td>\n",
       "      <td>houston,,</td>\n",
       "      <td>NaN</td>\n",
       "      <td>houston</td>\n",
       "      <td>NaN</td>\n",
       "      <td>NaN</td>\n",
       "    </tr>\n",
       "    <tr>\n",
       "      <th>67930</th>\n",
       "      <td>267276</td>\n",
       "      <td>sammamish,,</td>\n",
       "      <td>NaN</td>\n",
       "      <td>sammamish</td>\n",
       "      <td>NaN</td>\n",
       "      <td>NaN</td>\n",
       "    </tr>\n",
       "    <tr>\n",
       "      <th>68058</th>\n",
       "      <td>276221</td>\n",
       "      <td>calgary,,</td>\n",
       "      <td>NaN</td>\n",
       "      <td>calgary</td>\n",
       "      <td>NaN</td>\n",
       "      <td>NaN</td>\n",
       "    </tr>\n",
       "    <tr>\n",
       "      <th>68068</th>\n",
       "      <td>276949</td>\n",
       "      <td>bolligen,bern,</td>\n",
       "      <td>24.0</td>\n",
       "      <td>bolligen</td>\n",
       "      <td>bern</td>\n",
       "      <td>NaN</td>\n",
       "    </tr>\n",
       "  </tbody>\n",
       "</table>\n",
       "<p>2124 rows × 6 columns</p>\n",
       "</div>"
      ],
      "text/plain": [
       "       user_id        location   age location_city location_state   \n",
       "2        11676        na,na,na   NaN           NaN            NaN  \\\n",
       "6       116866        ottawa,,   NaN        ottawa            NaN   \n",
       "32      115097       seattle,,  27.0       seattle            NaN   \n",
       "49      245827   albuquerque,,   NaN   albuquerque            NaN   \n",
       "72      226745        humble,,  38.0        humble            NaN   \n",
       "...        ...             ...   ...           ...            ...   \n",
       "67797   257311   lisbon,maine,  36.0        lisbon          maine   \n",
       "67929   267240       houston,,   NaN       houston            NaN   \n",
       "67930   267276     sammamish,,   NaN     sammamish            NaN   \n",
       "68058   276221       calgary,,   NaN       calgary            NaN   \n",
       "68068   276949  bolligen,bern,  24.0      bolligen           bern   \n",
       "\n",
       "      location_country  \n",
       "2                  NaN  \n",
       "6                  NaN  \n",
       "32                 NaN  \n",
       "49                 NaN  \n",
       "72                 NaN  \n",
       "...                ...  \n",
       "67797              NaN  \n",
       "67929              NaN  \n",
       "67930              NaN  \n",
       "68058              NaN  \n",
       "68068              NaN  \n",
       "\n",
       "[2124 rows x 6 columns]"
      ]
     },
     "execution_count": 7,
     "metadata": {},
     "output_type": "execute_result"
    }
   ],
   "source": [
    "users[users['location_country'].isna()]"
   ]
  },
  {
   "cell_type": "markdown",
   "metadata": {
    "id": "9IEMF3MXNCYr"
   },
   "source": [
    "country가 결측값인 일부 행을 살펴보면 city값이 존재하는데, country 정보가 없는 경우가 있습니다.\n",
    "\n",
    "따라서 이런 경우를 처리해주도록 하겠습니다.\n",
    "\n",
    "가장 많이 count된 location 조합으로 채워줍니다."
   ]
  },
  {
   "cell_type": "code",
   "execution_count": 8,
   "metadata": {
    "id": "dNbL7ZcOe3ce",
    "tags": []
   },
   "outputs": [],
   "source": [
    "modify_location = users[(users['location_country'].isna())&(users['location_city'].notnull())]['location_city'].values\n",
    "\n",
    "location_list = []\n",
    "for location in modify_location:\n",
    "    try:\n",
    "        right_location = users[(users['location'].str.contains(location))&(users['location_country'].notnull())]['location'].value_counts().index[0]\n",
    "        location_list.append(right_location)\n",
    "    except:\n",
    "        pass"
   ]
  },
  {
   "cell_type": "code",
   "execution_count": 9,
   "metadata": {
    "id": "PxiQe07HiBeV",
    "tags": []
   },
   "outputs": [],
   "source": [
    "for location in location_list:\n",
    "    users.loc[users[users['location_city']==location.split(',')[0]].index,'location_state'] = location.split(',')[1].strip()\n",
    "    users.loc[users[users['location_city']==location.split(',')[0]].index,'location_country'] = location.split(',')[2].strip()"
   ]
  },
  {
   "cell_type": "code",
   "execution_count": 10,
   "metadata": {
    "colab": {
     "base_uri": "https://localhost:8080/"
    },
    "executionInfo": {
     "elapsed": 2,
     "status": "ok",
     "timestamp": 1681440420173,
     "user": {
      "displayName": "박예림",
      "userId": "02538636255865811244"
     },
     "user_tz": -540
    },
    "id": "YGdgjdM_kYnt",
    "outputId": "091e87bd-5f7d-440e-bcbf-c64619278446",
    "tags": []
   },
   "outputs": [
    {
     "data": {
      "text/plain": [
       "user_id                 0\n",
       "location                0\n",
       "age                 27833\n",
       "location_city         122\n",
       "location_state       1132\n",
       "location_country      271\n",
       "dtype: int64"
      ]
     },
     "execution_count": 10,
     "metadata": {},
     "output_type": "execute_result"
    }
   ],
   "source": [
    "users.isna().sum()"
   ]
  },
  {
   "cell_type": "markdown",
   "metadata": {
    "id": "fHNLV9x-Nb-p"
   },
   "source": [
    "location_state와 location_country의 결측값이 줄어든 것을 확인할 수 있습니다."
   ]
  },
  {
   "cell_type": "code",
   "execution_count": 11,
   "metadata": {
    "tags": []
   },
   "outputs": [],
   "source": [
    "users.to_csv(path + 'users1.csv', index=False)"
   ]
  },
  {
   "cell_type": "markdown",
   "metadata": {},
   "source": [
    "**city**"
   ]
  },
  {
   "cell_type": "code",
   "execution_count": 16,
   "metadata": {
    "tags": []
   },
   "outputs": [
    {
     "data": {
      "text/plain": [
       "location_city\n",
       "london                        701\n",
       "toronto                       656\n",
       "portland                      629\n",
       "seattle                       572\n",
       "vancouver                     542\n",
       "                             ... \n",
       "algarve:fontedobispotavira      1\n",
       "garrett                         1\n",
       "bainbridgeisl                   1\n",
       "mayville                        1\n",
       "grasse                          1\n",
       "Name: count, Length: 11994, dtype: int64"
      ]
     },
     "execution_count": 16,
     "metadata": {},
     "output_type": "execute_result"
    }
   ],
   "source": [
    "users['location_city'].value_counts()"
   ]
  },
  {
   "cell_type": "code",
   "execution_count": 17,
   "metadata": {
    "tags": []
   },
   "outputs": [
    {
     "data": {
      "text/plain": [
       "Index(['london', 'toronto', 'portland', 'seattle', 'vancouver', 'chicago',\n",
       "       'sanfrancisco', 'sandiego', 'newyork', 'ottawa',\n",
       "       ...\n",
       "       'southauckland', 'ndighton', 'metamora', 'elcaminovillage', 'jones',\n",
       "       'algarve:fontedobispotavira', 'garrett', 'bainbridgeisl', 'mayville',\n",
       "       'grasse'],\n",
       "      dtype='object', name='location_city', length=11994)"
      ]
     },
     "execution_count": 17,
     "metadata": {},
     "output_type": "execute_result"
    }
   ],
   "source": [
    "(users['location_city'].value_counts()==1).index"
   ]
  },
  {
   "cell_type": "markdown",
   "metadata": {
    "tags": []
   },
   "source": [
    "**state**"
   ]
  },
  {
   "cell_type": "code",
   "execution_count": 18,
   "metadata": {
    "tags": []
   },
   "outputs": [
    {
     "data": {
      "text/plain": [
       "location_state\n",
       "california     6878\n",
       "texas          2507\n",
       "ontario        2506\n",
       "newyork        2400\n",
       "england        2237\n",
       "               ... \n",
       "gifu              1\n",
       "agbs              1\n",
       "gwent             1\n",
       "grancanaria       1\n",
       "ccp               1\n",
       "Name: count, Length: 1323, dtype: int64"
      ]
     },
     "execution_count": 18,
     "metadata": {},
     "output_type": "execute_result"
    }
   ],
   "source": [
    "users['location_state'].value_counts()"
   ]
  },
  {
   "cell_type": "code",
   "execution_count": 19,
   "metadata": {
    "tags": []
   },
   "outputs": [
    {
     "data": {
      "text/plain": [
       "Index(['california', 'texas', 'ontario', 'newyork', 'england', 'florida',\n",
       "       'washington', 'pennsylvania', 'britishcolumbia', 'illinois',\n",
       "       ...\n",
       "       'vaslui', 'northlincolnshire', 'cuenca', 'sk', 'maritimealps', 'gifu',\n",
       "       'agbs', 'gwent', 'grancanaria', 'ccp'],\n",
       "      dtype='object', name='location_state', length=1323)"
      ]
     },
     "execution_count": 19,
     "metadata": {},
     "output_type": "execute_result"
    }
   ],
   "source": [
    "(users['location_state'].value_counts()==1).index"
   ]
  },
  {
   "cell_type": "markdown",
   "metadata": {
    "tags": []
   },
   "source": [
    "- location_city와 location_state는 너무 많아서 하나하나 확인하기 힘듦\n",
    "- city, state 둘 다 count가 하나인 값들이 꽤 많음 => 기타로 묶는 게 좋을까?"
   ]
  },
  {
   "cell_type": "markdown",
   "metadata": {
    "tags": []
   },
   "source": [
    "**country**"
   ]
  },
  {
   "cell_type": "code",
   "execution_count": 20,
   "metadata": {
    "tags": []
   },
   "outputs": [
    {
     "data": {
      "text/plain": [
       "array(['canada', nan, 'usa', 'malaysia', 'newzealand', 'finland',\n",
       "       'unitedkingdom', 'portugal', 'brazil', 'germany', 'austria',\n",
       "       'australia', 'italy', 'france', 'netherlands', 'poland', 'us',\n",
       "       'idaho', 'iran', 'aruba', 'spain', 'taiwan', 'singapore',\n",
       "       'argentina', 'india', 'romania', 'england', 'belgium',\n",
       "       'philippines', 'mexico', 'caymanislands', 'southafrica',\n",
       "       'switzerland', 'yugoslavia', 'turkey', 'japan', 'china', 'ireland',\n",
       "       'qatar', 'sweden', 'kuwait', 'indonesia', 'nepal',\n",
       "       'cambridgeshire', 'unitedstates', 'northcarolina', 'slovakia',\n",
       "       'norway', 'dominicanrepublic', 'southkorea', 'macedonia', 'kenya',\n",
       "       'mauritius', 'virginia', 'madagascar', 'israel', 'egypt',\n",
       "       'denmark', 'guatemala', 'russia', 'okinawa', 'palau',\n",
       "       'czechrepublic', 'ca', 'newyork', 'venezuela', 'faraway',\n",
       "       'antarctica', 'costarica', 'andorra', 'bulgaria', 'nigeria', 'dc',\n",
       "       'everywhereandanywhere', 'slovenia', 'chile', 'catalunya',\n",
       "       'washington', 'hongkong', 'michigan', 'illinois', 'california',\n",
       "       'luxembourg', 'iceland', 'honduras', 'middlesex', 'zambia',\n",
       "       'seoul', 'iowa', 'phillipines', 'greece', 'maryland', 'ontario',\n",
       "       'trinidadandtobago', 'newjersey', 'belize', 'algeria', 'vanwert',\n",
       "       'saudiarabia', 'oregon', 'cyprus', 'puertorico', 'universe',\n",
       "       'albania', 'mozambique', 'ukraine', 'pakistan', 'guinea',\n",
       "       'westyorkshire', 'newmexico', 'quit', 'euskalherria', 'tdzimi',\n",
       "       'tonga', 'srilanka', 'saintlucia', 'canaryislands', 'stthomasi',\n",
       "       'florida', 'malta', 'tennessee', 'cocarlow', 'oklahoma', 'bermuda',\n",
       "       'turkmenistan', 'barbados', 'naontheroad', 'laos', 'sthelena',\n",
       "       'alberta', 'tn', 'tunisia', 'caribbeansea', 'burma', 'auckland',\n",
       "       'tanzania', 'guernsey', 'latvia', 'uk', 'hungary',\n",
       "       'republicofpanama', 'cuba', 'unitedarabemirates', 'thailand',\n",
       "       'pender', 'bahrain', 'unknown', 'moldova', 'missouri', 'bahamas',\n",
       "       'unitedstaes', 'mongolia', 'ecuador', 'northyorkshire',\n",
       "       'saskatchewan', 'andalucia', 'newhampshire', 'niedersachsen',\n",
       "       'angola', 'bolivia', 'alderney', 'districtofcolumbia',\n",
       "       'westindies', 'estonia', 'kosovo', 'deutschland', 'papuanewguinea',\n",
       "       'connecticut', 'worcester', 'uruguay', 'urugua', 'kazakhstan',\n",
       "       'texas', 'paraguay', 'metromanila', 'newsouthwales', 'italia',\n",
       "       'kern', 'panama', 'queensland', 'space', 'pontevedra', 'oman',\n",
       "       'colombia', 'afghanistan', 'espaa', 'wales', 'aroostook',\n",
       "       'grenada', 'unitedstatesofamerica', 'massachusetts', 'orangeco',\n",
       "       'aberdeenshire', 'niger', 'croatia', 'galiza', 'lebanon',\n",
       "       'arizona', 'monaco', 'alachua', 'lachineternelle', 'almera',\n",
       "       'benin', 'hawaii', 'uae', 'austin', 'vietnam', 'colorado',\n",
       "       'jersey', 'c', 'newbrunswick', 'britishcolumbia', 'ohio',\n",
       "       'southdakota', 'franciscomorazan', 'minnesota', 'cambodia',\n",
       "       'newfoundland', 'arkansas', 'indiana', 'capeverde', 'montana',\n",
       "       'uganda', 'tajikistan', 'catalunyaspain', 'lleida', 'ghana',\n",
       "       'rhodeisland', 'ferrara', 'brunei', 'otago', 'kedah', 'maine',\n",
       "       'losestadosunidosdenorteamerica', 'camden', 'zimbabwe', 'scotland',\n",
       "       'petrolwarnation', 'nottinghamshire', 'bergued', 'lithuania',\n",
       "       'uzbekistan', 'cameroon', 'labelgique', 'novascotia', 'ineurope',\n",
       "       'alabama', 'morocco', 'nsw', 'anystate', 'veneziagiulia',\n",
       "       'lafrance', 'wisconsin', 'hereandthere', 'gipuzkoa', 'lasuisse',\n",
       "       'antiguaandbarbuda', 'disritofederal', 'bangladesh',\n",
       "       'guineabissau', 'fortbend', 'fiji', 'gabon', 'usanow', 'peru',\n",
       "       'countycork', 'usacurrentlylivinginengland', 'victoria', 'nz'],\n",
       "      dtype=object)"
      ]
     },
     "execution_count": 20,
     "metadata": {},
     "output_type": "execute_result"
    }
   ],
   "source": [
    "users['location_country'].unique() # 추가 확인"
   ]
  },
  {
   "cell_type": "markdown",
   "metadata": {
    "tags": []
   },
   "source": [
    "이름이 통일되어 있지 않다\n",
    "- 약어 => ex. us, uk\n",
    "- 공식 이름이 아닌 표기 => newmexico\n",
    "- 나라 이름이 아닌 요상한 이름들 => iceland, everywhereandanywhere\n",
    "- 나라 이름이 아니라 도시 이름이 들어가 있음 => seoul ...\n",
    "\n",
    "=> 추가 전처리 시도 해보기"
   ]
  },
  {
   "cell_type": "markdown",
   "metadata": {},
   "source": [
    "## KNNImputer로 결측치 처리"
   ]
  },
  {
   "cell_type": "code",
   "execution_count": 58,
   "metadata": {
    "tags": []
   },
   "outputs": [],
   "source": [
    "users = pd.read_csv(path + 'users1.csv')"
   ]
  },
  {
   "cell_type": "markdown",
   "metadata": {},
   "source": [
    "### location columns Label Encoding"
   ]
  },
  {
   "cell_type": "code",
   "execution_count": 60,
   "metadata": {
    "tags": []
   },
   "outputs": [],
   "source": [
    "from sklearn.preprocessing import LabelEncoder\n",
    "\n",
    "cat_col = ['location_city', 'location_state', 'location_country']\n",
    "le_dict = {col:LabelEncoder() for col in cat_col} # column별 LabelEncoder 생성\n",
    "\n",
    "for col, le in le_dict.items():\n",
    "    users.loc[users[users[col].notna()].index, col] = le.fit_transform(users[users[col].notna()][col])"
   ]
  },
  {
   "cell_type": "code",
   "execution_count": 61,
   "metadata": {
    "tags": []
   },
   "outputs": [
    {
     "data": {
      "text/html": [
       "<div>\n",
       "<style scoped>\n",
       "    .dataframe tbody tr th:only-of-type {\n",
       "        vertical-align: middle;\n",
       "    }\n",
       "\n",
       "    .dataframe tbody tr th {\n",
       "        vertical-align: top;\n",
       "    }\n",
       "\n",
       "    .dataframe thead th {\n",
       "        text-align: right;\n",
       "    }\n",
       "</style>\n",
       "<table border=\"1\" class=\"dataframe\">\n",
       "  <thead>\n",
       "    <tr style=\"text-align: right;\">\n",
       "      <th></th>\n",
       "      <th>user_id</th>\n",
       "      <th>location</th>\n",
       "      <th>age</th>\n",
       "      <th>location_city</th>\n",
       "      <th>location_state</th>\n",
       "      <th>location_country</th>\n",
       "    </tr>\n",
       "  </thead>\n",
       "  <tbody>\n",
       "    <tr>\n",
       "      <th>0</th>\n",
       "      <td>8</td>\n",
       "      <td>timmins,ontario,canada</td>\n",
       "      <td>NaN</td>\n",
       "      <td>10627</td>\n",
       "      <td>854</td>\n",
       "      <td>46</td>\n",
       "    </tr>\n",
       "    <tr>\n",
       "      <th>1</th>\n",
       "      <td>11400</td>\n",
       "      <td>ottawa,ontario,canada</td>\n",
       "      <td>49.0</td>\n",
       "      <td>7911</td>\n",
       "      <td>854</td>\n",
       "      <td>46</td>\n",
       "    </tr>\n",
       "    <tr>\n",
       "      <th>2</th>\n",
       "      <td>11676</td>\n",
       "      <td>na,na,na</td>\n",
       "      <td>NaN</td>\n",
       "      <td>NaN</td>\n",
       "      <td>NaN</td>\n",
       "      <td>NaN</td>\n",
       "    </tr>\n",
       "    <tr>\n",
       "      <th>3</th>\n",
       "      <td>67544</td>\n",
       "      <td>toronto,ontario,canada</td>\n",
       "      <td>30.0</td>\n",
       "      <td>10685</td>\n",
       "      <td>854</td>\n",
       "      <td>46</td>\n",
       "    </tr>\n",
       "    <tr>\n",
       "      <th>4</th>\n",
       "      <td>85526</td>\n",
       "      <td>victoria,britishcolumbia,canada</td>\n",
       "      <td>36.0</td>\n",
       "      <td>11060</td>\n",
       "      <td>168</td>\n",
       "      <td>46</td>\n",
       "    </tr>\n",
       "  </tbody>\n",
       "</table>\n",
       "</div>"
      ],
      "text/plain": [
       "   user_id                         location   age location_city   \n",
       "0        8           timmins,ontario,canada   NaN         10627  \\\n",
       "1    11400            ottawa,ontario,canada  49.0          7911   \n",
       "2    11676                         na,na,na   NaN           NaN   \n",
       "3    67544           toronto,ontario,canada  30.0         10685   \n",
       "4    85526  victoria,britishcolumbia,canada  36.0         11060   \n",
       "\n",
       "  location_state location_country  \n",
       "0            854               46  \n",
       "1            854               46  \n",
       "2            NaN              NaN  \n",
       "3            854               46  \n",
       "4            168               46  "
      ]
     },
     "execution_count": 61,
     "metadata": {},
     "output_type": "execute_result"
    }
   ],
   "source": [
    "users.head()"
   ]
  },
  {
   "cell_type": "code",
   "execution_count": 62,
   "metadata": {
    "tags": []
   },
   "outputs": [
    {
     "name": "stdout",
     "output_type": "stream",
     "text": [
      "<class 'pandas.core.frame.DataFrame'>\n",
      "RangeIndex: 68092 entries, 0 to 68091\n",
      "Data columns (total 4 columns):\n",
      " #   Column            Non-Null Count  Dtype  \n",
      "---  ------            --------------  -----  \n",
      " 0   age               68092 non-null  float64\n",
      " 1   location_city     68092 non-null  float64\n",
      " 2   location_state    68092 non-null  float64\n",
      " 3   location_country  68092 non-null  float64\n",
      "dtypes: float64(4)\n",
      "memory usage: 2.1 MB\n"
     ]
    }
   ],
   "source": [
    "from sklearn.impute import KNNImputer\n",
    "\n",
    "impute_df = users[['age', 'location_city', 'location_state', 'location_country']]\n",
    "imputer = KNNImputer(n_neighbors=5)\n",
    "imputed = imputer.fit_transform(impute_df)\n",
    "df_imputed = pd.DataFrame(imputed, columns=impute_df.columns)\n",
    "df_imputed.info()"
   ]
  },
  {
   "cell_type": "code",
   "execution_count": 63,
   "metadata": {
    "tags": []
   },
   "outputs": [
    {
     "data": {
      "text/html": [
       "<div>\n",
       "<style scoped>\n",
       "    .dataframe tbody tr th:only-of-type {\n",
       "        vertical-align: middle;\n",
       "    }\n",
       "\n",
       "    .dataframe tbody tr th {\n",
       "        vertical-align: top;\n",
       "    }\n",
       "\n",
       "    .dataframe thead th {\n",
       "        text-align: right;\n",
       "    }\n",
       "</style>\n",
       "<table border=\"1\" class=\"dataframe\">\n",
       "  <thead>\n",
       "    <tr style=\"text-align: right;\">\n",
       "      <th></th>\n",
       "      <th>age</th>\n",
       "      <th>location_city</th>\n",
       "      <th>location_state</th>\n",
       "      <th>location_country</th>\n",
       "    </tr>\n",
       "  </thead>\n",
       "  <tbody>\n",
       "    <tr>\n",
       "      <th>0</th>\n",
       "      <td>24.400000</td>\n",
       "      <td>10627.000000</td>\n",
       "      <td>854.000000</td>\n",
       "      <td>46.000000</td>\n",
       "    </tr>\n",
       "    <tr>\n",
       "      <th>1</th>\n",
       "      <td>49.000000</td>\n",
       "      <td>7911.000000</td>\n",
       "      <td>854.000000</td>\n",
       "      <td>46.000000</td>\n",
       "    </tr>\n",
       "    <tr>\n",
       "      <th>2</th>\n",
       "      <td>36.069873</td>\n",
       "      <td>6042.817361</td>\n",
       "      <td>647.916603</td>\n",
       "      <td>203.358193</td>\n",
       "    </tr>\n",
       "    <tr>\n",
       "      <th>3</th>\n",
       "      <td>30.000000</td>\n",
       "      <td>10685.000000</td>\n",
       "      <td>854.000000</td>\n",
       "      <td>46.000000</td>\n",
       "    </tr>\n",
       "    <tr>\n",
       "      <th>4</th>\n",
       "      <td>36.000000</td>\n",
       "      <td>11060.000000</td>\n",
       "      <td>168.000000</td>\n",
       "      <td>46.000000</td>\n",
       "    </tr>\n",
       "  </tbody>\n",
       "</table>\n",
       "</div>"
      ],
      "text/plain": [
       "         age  location_city  location_state  location_country\n",
       "0  24.400000   10627.000000      854.000000         46.000000\n",
       "1  49.000000    7911.000000      854.000000         46.000000\n",
       "2  36.069873    6042.817361      647.916603        203.358193\n",
       "3  30.000000   10685.000000      854.000000         46.000000\n",
       "4  36.000000   11060.000000      168.000000         46.000000"
      ]
     },
     "execution_count": 63,
     "metadata": {},
     "output_type": "execute_result"
    }
   ],
   "source": [
    "df_imputed.head()"
   ]
  },
  {
   "cell_type": "code",
   "execution_count": 64,
   "metadata": {
    "tags": []
   },
   "outputs": [],
   "source": [
    "df_imputed = df_imputed.astype(int)"
   ]
  },
  {
   "cell_type": "code",
   "execution_count": 65,
   "metadata": {
    "tags": []
   },
   "outputs": [
    {
     "data": {
      "text/html": [
       "<div>\n",
       "<style scoped>\n",
       "    .dataframe tbody tr th:only-of-type {\n",
       "        vertical-align: middle;\n",
       "    }\n",
       "\n",
       "    .dataframe tbody tr th {\n",
       "        vertical-align: top;\n",
       "    }\n",
       "\n",
       "    .dataframe thead th {\n",
       "        text-align: right;\n",
       "    }\n",
       "</style>\n",
       "<table border=\"1\" class=\"dataframe\">\n",
       "  <thead>\n",
       "    <tr style=\"text-align: right;\">\n",
       "      <th></th>\n",
       "      <th>age</th>\n",
       "      <th>location_city</th>\n",
       "      <th>location_state</th>\n",
       "      <th>location_country</th>\n",
       "    </tr>\n",
       "  </thead>\n",
       "  <tbody>\n",
       "    <tr>\n",
       "      <th>0</th>\n",
       "      <td>24</td>\n",
       "      <td>10627</td>\n",
       "      <td>854</td>\n",
       "      <td>46</td>\n",
       "    </tr>\n",
       "    <tr>\n",
       "      <th>1</th>\n",
       "      <td>49</td>\n",
       "      <td>7911</td>\n",
       "      <td>854</td>\n",
       "      <td>46</td>\n",
       "    </tr>\n",
       "    <tr>\n",
       "      <th>2</th>\n",
       "      <td>36</td>\n",
       "      <td>6042</td>\n",
       "      <td>647</td>\n",
       "      <td>203</td>\n",
       "    </tr>\n",
       "    <tr>\n",
       "      <th>3</th>\n",
       "      <td>30</td>\n",
       "      <td>10685</td>\n",
       "      <td>854</td>\n",
       "      <td>46</td>\n",
       "    </tr>\n",
       "    <tr>\n",
       "      <th>4</th>\n",
       "      <td>36</td>\n",
       "      <td>11060</td>\n",
       "      <td>168</td>\n",
       "      <td>46</td>\n",
       "    </tr>\n",
       "    <tr>\n",
       "      <th>...</th>\n",
       "      <td>...</td>\n",
       "      <td>...</td>\n",
       "      <td>...</td>\n",
       "      <td>...</td>\n",
       "    </tr>\n",
       "    <tr>\n",
       "      <th>68087</th>\n",
       "      <td>54</td>\n",
       "      <td>2609</td>\n",
       "      <td>192</td>\n",
       "      <td>249</td>\n",
       "    </tr>\n",
       "    <tr>\n",
       "      <th>68088</th>\n",
       "      <td>74</td>\n",
       "      <td>11060</td>\n",
       "      <td>310</td>\n",
       "      <td>46</td>\n",
       "    </tr>\n",
       "    <tr>\n",
       "      <th>68089</th>\n",
       "      <td>32</td>\n",
       "      <td>4981</td>\n",
       "      <td>22</td>\n",
       "      <td>249</td>\n",
       "    </tr>\n",
       "    <tr>\n",
       "      <th>68090</th>\n",
       "      <td>33</td>\n",
       "      <td>10975</td>\n",
       "      <td>168</td>\n",
       "      <td>46</td>\n",
       "    </tr>\n",
       "    <tr>\n",
       "      <th>68091</th>\n",
       "      <td>63</td>\n",
       "      <td>188</td>\n",
       "      <td>767</td>\n",
       "      <td>249</td>\n",
       "    </tr>\n",
       "  </tbody>\n",
       "</table>\n",
       "<p>68092 rows × 4 columns</p>\n",
       "</div>"
      ],
      "text/plain": [
       "       age  location_city  location_state  location_country\n",
       "0       24          10627             854                46\n",
       "1       49           7911             854                46\n",
       "2       36           6042             647               203\n",
       "3       30          10685             854                46\n",
       "4       36          11060             168                46\n",
       "...    ...            ...             ...               ...\n",
       "68087   54           2609             192               249\n",
       "68088   74          11060             310                46\n",
       "68089   32           4981              22               249\n",
       "68090   33          10975             168                46\n",
       "68091   63            188             767               249\n",
       "\n",
       "[68092 rows x 4 columns]"
      ]
     },
     "execution_count": 65,
     "metadata": {},
     "output_type": "execute_result"
    }
   ],
   "source": [
    "df_imputed"
   ]
  },
  {
   "cell_type": "code",
   "execution_count": 66,
   "metadata": {
    "tags": []
   },
   "outputs": [
    {
     "data": {
      "text/plain": [
       "age                 0\n",
       "location_city       0\n",
       "location_state      0\n",
       "location_country    0\n",
       "dtype: int64"
      ]
     },
     "execution_count": 66,
     "metadata": {},
     "output_type": "execute_result"
    }
   ],
   "source": [
    "df_imputed.isna().sum()"
   ]
  },
  {
   "cell_type": "code",
   "execution_count": 67,
   "metadata": {
    "tags": []
   },
   "outputs": [
    {
     "data": {
      "text/html": [
       "<div>\n",
       "<style scoped>\n",
       "    .dataframe tbody tr th:only-of-type {\n",
       "        vertical-align: middle;\n",
       "    }\n",
       "\n",
       "    .dataframe tbody tr th {\n",
       "        vertical-align: top;\n",
       "    }\n",
       "\n",
       "    .dataframe thead th {\n",
       "        text-align: right;\n",
       "    }\n",
       "</style>\n",
       "<table border=\"1\" class=\"dataframe\">\n",
       "  <thead>\n",
       "    <tr style=\"text-align: right;\">\n",
       "      <th></th>\n",
       "      <th>user_id</th>\n",
       "      <th>location</th>\n",
       "      <th>age</th>\n",
       "      <th>location_city</th>\n",
       "      <th>location_state</th>\n",
       "      <th>location_country</th>\n",
       "    </tr>\n",
       "  </thead>\n",
       "  <tbody>\n",
       "    <tr>\n",
       "      <th>0</th>\n",
       "      <td>8</td>\n",
       "      <td>timmins,ontario,canada</td>\n",
       "      <td>24</td>\n",
       "      <td>10627</td>\n",
       "      <td>854</td>\n",
       "      <td>46</td>\n",
       "    </tr>\n",
       "    <tr>\n",
       "      <th>1</th>\n",
       "      <td>11400</td>\n",
       "      <td>ottawa,ontario,canada</td>\n",
       "      <td>49</td>\n",
       "      <td>7911</td>\n",
       "      <td>854</td>\n",
       "      <td>46</td>\n",
       "    </tr>\n",
       "    <tr>\n",
       "      <th>2</th>\n",
       "      <td>11676</td>\n",
       "      <td>na,na,na</td>\n",
       "      <td>36</td>\n",
       "      <td>6042</td>\n",
       "      <td>647</td>\n",
       "      <td>203</td>\n",
       "    </tr>\n",
       "    <tr>\n",
       "      <th>3</th>\n",
       "      <td>67544</td>\n",
       "      <td>toronto,ontario,canada</td>\n",
       "      <td>30</td>\n",
       "      <td>10685</td>\n",
       "      <td>854</td>\n",
       "      <td>46</td>\n",
       "    </tr>\n",
       "    <tr>\n",
       "      <th>4</th>\n",
       "      <td>85526</td>\n",
       "      <td>victoria,britishcolumbia,canada</td>\n",
       "      <td>36</td>\n",
       "      <td>11060</td>\n",
       "      <td>168</td>\n",
       "      <td>46</td>\n",
       "    </tr>\n",
       "  </tbody>\n",
       "</table>\n",
       "</div>"
      ],
      "text/plain": [
       "   user_id                         location  age  location_city   \n",
       "0        8           timmins,ontario,canada   24          10627  \\\n",
       "1    11400            ottawa,ontario,canada   49           7911   \n",
       "2    11676                         na,na,na   36           6042   \n",
       "3    67544           toronto,ontario,canada   30          10685   \n",
       "4    85526  victoria,britishcolumbia,canada   36          11060   \n",
       "\n",
       "   location_state  location_country  \n",
       "0             854                46  \n",
       "1             854                46  \n",
       "2             647               203  \n",
       "3             854                46  \n",
       "4             168                46  "
      ]
     },
     "execution_count": 67,
     "metadata": {},
     "output_type": "execute_result"
    }
   ],
   "source": [
    "users[['age', 'location_city', 'location_state', 'location_country']] = df_imputed\n",
    "users.head()"
   ]
  },
  {
   "cell_type": "code",
   "execution_count": 68,
   "metadata": {
    "tags": []
   },
   "outputs": [
    {
     "data": {
      "text/plain": [
       "user_id             0\n",
       "location            0\n",
       "age                 0\n",
       "location_city       0\n",
       "location_state      0\n",
       "location_country    0\n",
       "dtype: int64"
      ]
     },
     "execution_count": 68,
     "metadata": {},
     "output_type": "execute_result"
    }
   ],
   "source": [
    "users.isna().sum()"
   ]
  },
  {
   "cell_type": "code",
   "execution_count": 69,
   "metadata": {
    "tags": []
   },
   "outputs": [
    {
     "name": "stdout",
     "output_type": "stream",
     "text": [
      "['0000largo' '03770elverger' '05680' ... 'zwickau' 'zwijndrecht'\n",
      " 'zwingenberg']\n",
      "['322dzkie' 'aargau' 'aarhus' ... 'zug' 'zuidholland' 'zurich']\n",
      "['aberdeenshire' 'afghanistan' 'alabama' 'alachua' 'albania' 'alberta'\n",
      " 'alderney' 'algeria' 'almera' 'andalucia' 'andorra' 'angola' 'antarctica'\n",
      " 'antiguaandbarbuda' 'anystate' 'argentina' 'arizona' 'arkansas'\n",
      " 'aroostook' 'aruba' 'auckland' 'austin' 'australia' 'austria' 'bahamas'\n",
      " 'bahrain' 'bangladesh' 'barbados' 'belgium' 'belize' 'benin' 'bergued'\n",
      " 'bermuda' 'bolivia' 'brazil' 'britishcolumbia' 'brunei' 'bulgaria'\n",
      " 'burma' 'c' 'ca' 'california' 'cambodia' 'cambridgeshire' 'camden'\n",
      " 'cameroon' 'canada' 'canaryislands' 'capeverde' 'caribbeansea'\n",
      " 'catalunya' 'catalunyaspain' 'caymanislands' 'chile' 'china' 'cocarlow'\n",
      " 'colombia' 'colorado' 'connecticut' 'costarica' 'countycork' 'croatia'\n",
      " 'cuba' 'cyprus' 'czechrepublic' 'dc' 'denmark' 'deutschland'\n",
      " 'disritofederal' 'districtofcolumbia' 'dominicanrepublic' 'ecuador'\n",
      " 'egypt' 'england' 'espaa' 'estonia' 'euskalherria'\n",
      " 'everywhereandanywhere' 'faraway' 'ferrara' 'fiji' 'finland' 'florida'\n",
      " 'fortbend' 'france' 'franciscomorazan' 'gabon' 'galiza' 'germany' 'ghana'\n",
      " 'gipuzkoa' 'greece' 'grenada' 'guatemala' 'guernsey' 'guinea'\n",
      " 'guineabissau' 'hawaii' 'hereandthere' 'honduras' 'hongkong' 'hungary'\n",
      " 'iceland' 'idaho' 'illinois' 'india' 'indiana' 'indonesia' 'ineurope'\n",
      " 'iowa' 'iran' 'ireland' 'israel' 'italia' 'italy' 'japan' 'jersey'\n",
      " 'kazakhstan' 'kedah' 'kenya' 'kern' 'kosovo' 'kuwait' 'labelgique'\n",
      " 'lachineternelle' 'lafrance' 'laos' 'lasuisse' 'latvia' 'lebanon'\n",
      " 'lithuania' 'lleida' 'losestadosunidosdenorteamerica' 'luxembourg'\n",
      " 'macedonia' 'madagascar' 'maine' 'malaysia' 'malta' 'maryland'\n",
      " 'massachusetts' 'mauritius' 'metromanila' 'mexico' 'michigan' 'middlesex'\n",
      " 'minnesota' 'missouri' 'moldova' 'monaco' 'mongolia' 'montana' 'morocco'\n",
      " 'mozambique' 'naontheroad' 'nepal' 'netherlands' 'newbrunswick'\n",
      " 'newfoundland' 'newhampshire' 'newjersey' 'newmexico' 'newsouthwales'\n",
      " 'newyork' 'newzealand' 'niedersachsen' 'niger' 'nigeria' 'northcarolina'\n",
      " 'northyorkshire' 'norway' 'nottinghamshire' 'novascotia' 'nsw' 'nz'\n",
      " 'ohio' 'okinawa' 'oklahoma' 'oman' 'ontario' 'orangeco' 'oregon' 'otago'\n",
      " 'pakistan' 'palau' 'panama' 'papuanewguinea' 'paraguay' 'pender' 'peru'\n",
      " 'petrolwarnation' 'philippines' 'phillipines' 'poland' 'pontevedra'\n",
      " 'portugal' 'puertorico' 'qatar' 'queensland' 'quit' 'republicofpanama'\n",
      " 'rhodeisland' 'romania' 'russia' 'saintlucia' 'saskatchewan'\n",
      " 'saudiarabia' 'scotland' 'seoul' 'singapore' 'slovakia' 'slovenia'\n",
      " 'southafrica' 'southdakota' 'southkorea' 'space' 'spain' 'srilanka'\n",
      " 'sthelena' 'stthomasi' 'sweden' 'switzerland' 'taiwan' 'tajikistan'\n",
      " 'tanzania' 'tdzimi' 'tennessee' 'texas' 'thailand' 'tn' 'tonga'\n",
      " 'trinidadandtobago' 'tunisia' 'turkey' 'turkmenistan' 'uae' 'uganda' 'uk'\n",
      " 'ukraine' 'unitedarabemirates' 'unitedkingdom' 'unitedstaes'\n",
      " 'unitedstates' 'unitedstatesofamerica' 'universe' 'unknown' 'urugua'\n",
      " 'uruguay' 'us' 'usa' 'usacurrentlylivinginengland' 'usanow' 'uzbekistan'\n",
      " 'vanwert' 'veneziagiulia' 'venezuela' 'victoria' 'vietnam' 'virginia'\n",
      " 'wales' 'washington' 'westindies' 'westyorkshire' 'wisconsin' 'worcester'\n",
      " 'yugoslavia' 'zambia' 'zimbabwe']\n"
     ]
    }
   ],
   "source": [
    "# label 원래대로 복원\n",
    "for col, le in le_dict.items():\n",
    "    print(le.classes_)\n",
    "    users[col] = le.inverse_transform(df_imputed[col])"
   ]
  },
  {
   "cell_type": "code",
   "execution_count": 70,
   "metadata": {
    "tags": []
   },
   "outputs": [
    {
     "data": {
      "text/html": [
       "<div>\n",
       "<style scoped>\n",
       "    .dataframe tbody tr th:only-of-type {\n",
       "        vertical-align: middle;\n",
       "    }\n",
       "\n",
       "    .dataframe tbody tr th {\n",
       "        vertical-align: top;\n",
       "    }\n",
       "\n",
       "    .dataframe thead th {\n",
       "        text-align: right;\n",
       "    }\n",
       "</style>\n",
       "<table border=\"1\" class=\"dataframe\">\n",
       "  <thead>\n",
       "    <tr style=\"text-align: right;\">\n",
       "      <th></th>\n",
       "      <th>user_id</th>\n",
       "      <th>location</th>\n",
       "      <th>age</th>\n",
       "      <th>location_city</th>\n",
       "      <th>location_state</th>\n",
       "      <th>location_country</th>\n",
       "    </tr>\n",
       "  </thead>\n",
       "  <tbody>\n",
       "    <tr>\n",
       "      <th>0</th>\n",
       "      <td>8</td>\n",
       "      <td>timmins,ontario,canada</td>\n",
       "      <td>24</td>\n",
       "      <td>timmins</td>\n",
       "      <td>ontario</td>\n",
       "      <td>canada</td>\n",
       "    </tr>\n",
       "    <tr>\n",
       "      <th>1</th>\n",
       "      <td>11400</td>\n",
       "      <td>ottawa,ontario,canada</td>\n",
       "      <td>49</td>\n",
       "      <td>ottawa</td>\n",
       "      <td>ontario</td>\n",
       "      <td>canada</td>\n",
       "    </tr>\n",
       "    <tr>\n",
       "      <th>2</th>\n",
       "      <td>11676</td>\n",
       "      <td>na,na,na</td>\n",
       "      <td>36</td>\n",
       "      <td>logansport</td>\n",
       "      <td>macedonia</td>\n",
       "      <td>russia</td>\n",
       "    </tr>\n",
       "    <tr>\n",
       "      <th>3</th>\n",
       "      <td>67544</td>\n",
       "      <td>toronto,ontario,canada</td>\n",
       "      <td>30</td>\n",
       "      <td>toronto</td>\n",
       "      <td>ontario</td>\n",
       "      <td>canada</td>\n",
       "    </tr>\n",
       "    <tr>\n",
       "      <th>4</th>\n",
       "      <td>85526</td>\n",
       "      <td>victoria,britishcolumbia,canada</td>\n",
       "      <td>36</td>\n",
       "      <td>victoria</td>\n",
       "      <td>britishcolumbia</td>\n",
       "      <td>canada</td>\n",
       "    </tr>\n",
       "    <tr>\n",
       "      <th>...</th>\n",
       "      <td>...</td>\n",
       "      <td>...</td>\n",
       "      <td>...</td>\n",
       "      <td>...</td>\n",
       "      <td>...</td>\n",
       "      <td>...</td>\n",
       "    </tr>\n",
       "    <tr>\n",
       "      <th>68087</th>\n",
       "      <td>278376</td>\n",
       "      <td>danville,pennsylvania,usa</td>\n",
       "      <td>54</td>\n",
       "      <td>danville</td>\n",
       "      <td>california</td>\n",
       "      <td>usa</td>\n",
       "    </tr>\n",
       "    <tr>\n",
       "      <th>68088</th>\n",
       "      <td>278621</td>\n",
       "      <td>victoria,delaware,canada</td>\n",
       "      <td>74</td>\n",
       "      <td>victoria</td>\n",
       "      <td>delaware</td>\n",
       "      <td>canada</td>\n",
       "    </tr>\n",
       "    <tr>\n",
       "      <th>68089</th>\n",
       "      <td>278636</td>\n",
       "      <td>irvington,alabama,usa</td>\n",
       "      <td>32</td>\n",
       "      <td>irvington</td>\n",
       "      <td>alabama</td>\n",
       "      <td>usa</td>\n",
       "    </tr>\n",
       "    <tr>\n",
       "      <th>68090</th>\n",
       "      <td>278659</td>\n",
       "      <td>vancouver,washington,usa</td>\n",
       "      <td>33</td>\n",
       "      <td>vancouver</td>\n",
       "      <td>britishcolumbia</td>\n",
       "      <td>canada</td>\n",
       "    </tr>\n",
       "    <tr>\n",
       "      <th>68091</th>\n",
       "      <td>278713</td>\n",
       "      <td>albuquerque,newmexico,usa</td>\n",
       "      <td>63</td>\n",
       "      <td>albuquerque</td>\n",
       "      <td>newmexico</td>\n",
       "      <td>usa</td>\n",
       "    </tr>\n",
       "  </tbody>\n",
       "</table>\n",
       "<p>68092 rows × 6 columns</p>\n",
       "</div>"
      ],
      "text/plain": [
       "       user_id                         location  age location_city   \n",
       "0            8           timmins,ontario,canada   24       timmins  \\\n",
       "1        11400            ottawa,ontario,canada   49        ottawa   \n",
       "2        11676                         na,na,na   36    logansport   \n",
       "3        67544           toronto,ontario,canada   30       toronto   \n",
       "4        85526  victoria,britishcolumbia,canada   36      victoria   \n",
       "...        ...                              ...  ...           ...   \n",
       "68087   278376        danville,pennsylvania,usa   54      danville   \n",
       "68088   278621         victoria,delaware,canada   74      victoria   \n",
       "68089   278636            irvington,alabama,usa   32     irvington   \n",
       "68090   278659         vancouver,washington,usa   33     vancouver   \n",
       "68091   278713        albuquerque,newmexico,usa   63   albuquerque   \n",
       "\n",
       "        location_state location_country  \n",
       "0              ontario           canada  \n",
       "1              ontario           canada  \n",
       "2            macedonia           russia  \n",
       "3              ontario           canada  \n",
       "4      britishcolumbia           canada  \n",
       "...                ...              ...  \n",
       "68087       california              usa  \n",
       "68088         delaware           canada  \n",
       "68089          alabama              usa  \n",
       "68090  britishcolumbia           canada  \n",
       "68091        newmexico              usa  \n",
       "\n",
       "[68092 rows x 6 columns]"
      ]
     },
     "execution_count": 70,
     "metadata": {},
     "output_type": "execute_result"
    }
   ],
   "source": [
    "users"
   ]
  },
  {
   "cell_type": "code",
   "execution_count": 81,
   "metadata": {
    "id": "qBKN9Vglxf7n",
    "tags": []
   },
   "outputs": [],
   "source": [
    "users = users.drop(columns='location')"
   ]
  },
  {
   "cell_type": "code",
   "execution_count": 85,
   "metadata": {
    "tags": []
   },
   "outputs": [
    {
     "data": {
      "text/plain": [
       "user_id             0\n",
       "age                 0\n",
       "location_city       0\n",
       "location_state      0\n",
       "location_country    0\n",
       "dtype: int64"
      ]
     },
     "execution_count": 85,
     "metadata": {},
     "output_type": "execute_result"
    }
   ],
   "source": [
    "users.isna().sum()"
   ]
  },
  {
   "cell_type": "code",
   "execution_count": 82,
   "metadata": {
    "tags": []
   },
   "outputs": [
    {
     "data": {
      "text/html": [
       "<div>\n",
       "<style scoped>\n",
       "    .dataframe tbody tr th:only-of-type {\n",
       "        vertical-align: middle;\n",
       "    }\n",
       "\n",
       "    .dataframe tbody tr th {\n",
       "        vertical-align: top;\n",
       "    }\n",
       "\n",
       "    .dataframe thead th {\n",
       "        text-align: right;\n",
       "    }\n",
       "</style>\n",
       "<table border=\"1\" class=\"dataframe\">\n",
       "  <thead>\n",
       "    <tr style=\"text-align: right;\">\n",
       "      <th></th>\n",
       "      <th>user_id</th>\n",
       "      <th>age</th>\n",
       "      <th>location_city</th>\n",
       "      <th>location_state</th>\n",
       "      <th>location_country</th>\n",
       "    </tr>\n",
       "  </thead>\n",
       "  <tbody>\n",
       "    <tr>\n",
       "      <th>0</th>\n",
       "      <td>8</td>\n",
       "      <td>24</td>\n",
       "      <td>timmins</td>\n",
       "      <td>ontario</td>\n",
       "      <td>canada</td>\n",
       "    </tr>\n",
       "    <tr>\n",
       "      <th>1</th>\n",
       "      <td>11400</td>\n",
       "      <td>49</td>\n",
       "      <td>ottawa</td>\n",
       "      <td>ontario</td>\n",
       "      <td>canada</td>\n",
       "    </tr>\n",
       "    <tr>\n",
       "      <th>2</th>\n",
       "      <td>11676</td>\n",
       "      <td>36</td>\n",
       "      <td>logansport</td>\n",
       "      <td>macedonia</td>\n",
       "      <td>russia</td>\n",
       "    </tr>\n",
       "    <tr>\n",
       "      <th>3</th>\n",
       "      <td>67544</td>\n",
       "      <td>30</td>\n",
       "      <td>toronto</td>\n",
       "      <td>ontario</td>\n",
       "      <td>canada</td>\n",
       "    </tr>\n",
       "    <tr>\n",
       "      <th>4</th>\n",
       "      <td>85526</td>\n",
       "      <td>36</td>\n",
       "      <td>victoria</td>\n",
       "      <td>britishcolumbia</td>\n",
       "      <td>canada</td>\n",
       "    </tr>\n",
       "  </tbody>\n",
       "</table>\n",
       "</div>"
      ],
      "text/plain": [
       "   user_id  age location_city   location_state location_country\n",
       "0        8   24       timmins          ontario           canada\n",
       "1    11400   49        ottawa          ontario           canada\n",
       "2    11676   36    logansport        macedonia           russia\n",
       "3    67544   30       toronto          ontario           canada\n",
       "4    85526   36      victoria  britishcolumbia           canada"
      ]
     },
     "execution_count": 82,
     "metadata": {},
     "output_type": "execute_result"
    }
   ],
   "source": [
    "users.head()"
   ]
  },
  {
   "cell_type": "code",
   "execution_count": 83,
   "metadata": {
    "tags": []
   },
   "outputs": [
    {
     "name": "stdout",
     "output_type": "stream",
     "text": [
      "<class 'pandas.core.frame.DataFrame'>\n",
      "RangeIndex: 68092 entries, 0 to 68091\n",
      "Data columns (total 5 columns):\n",
      " #   Column            Non-Null Count  Dtype \n",
      "---  ------            --------------  ----- \n",
      " 0   user_id           68092 non-null  int64 \n",
      " 1   age               68092 non-null  int64 \n",
      " 2   location_city     68092 non-null  object\n",
      " 3   location_state    68092 non-null  object\n",
      " 4   location_country  68092 non-null  object\n",
      "dtypes: int64(2), object(3)\n",
      "memory usage: 2.6+ MB\n"
     ]
    }
   ],
   "source": [
    "users.info()"
   ]
  },
  {
   "cell_type": "code",
   "execution_count": 84,
   "metadata": {
    "tags": []
   },
   "outputs": [],
   "source": [
    "users.to_csv(path + 'v2/users.csv', index=False)"
   ]
  },
  {
   "cell_type": "markdown",
   "metadata": {
    "id": "BSeC20mx7HSY",
    "jp-MarkdownHeadingCollapsed": true,
    "tags": []
   },
   "source": [
    "## 시각화 [선택 실행]\n",
    "데이터 시각화를 통해 사용자들의 나이 분포, 거주 국가 등을 알아보겠습니다."
   ]
  },
  {
   "cell_type": "code",
   "execution_count": 74,
   "metadata": {
    "colab": {
     "base_uri": "https://localhost:8080/",
     "height": 575
    },
    "executionInfo": {
     "elapsed": 991,
     "status": "ok",
     "timestamp": 1681399547090,
     "user": {
      "displayName": "박예림",
      "userId": "02538636255865811244"
     },
     "user_tz": -540
    },
    "id": "MN3RZyW2LhD7",
    "outputId": "bbc8af06-1941-49a7-f5c6-ca3426614716",
    "tags": []
   },
   "outputs": [
    {
     "data": {
      "image/png": "[encoded data removed]",
      "text/plain": [
       "<Figure size 2000x700 with 2 Axes>"
      ]
     },
     "metadata": {},
     "output_type": "display_data"
    }
   ],
   "source": [
    "# 나이 분포\n",
    "fig, ax = plt.subplots(1, 2, figsize=(20, 7))\n",
    "\n",
    "users['age'].hist(bins=40, color='teal', ax=ax[0])\n",
    "sns.boxenplot(data=users, x='age', color='teal',ax=ax[1])\n",
    "\n",
    "plt.show()"
   ]
  },
  {
   "cell_type": "code",
   "execution_count": 75,
   "metadata": {
    "colab": {
     "base_uri": "https://localhost:8080/"
    },
    "executionInfo": {
     "elapsed": 8,
     "status": "ok",
     "timestamp": 1681399547090,
     "user": {
      "displayName": "박예림",
      "userId": "02538636255865811244"
     },
     "user_tz": -540
    },
    "id": "1VcWiFjJIYOH",
    "outputId": "fb71f12c-88ad-4c9b-c2a5-b14415714372",
    "tags": []
   },
   "outputs": [
    {
     "data": {
      "text/plain": [
       "age\n",
       "30    4016\n",
       "33    3077\n",
       "29    3037\n",
       "31    2925\n",
       "35    2848\n",
       "      ... \n",
       "86       1\n",
       "94       1\n",
       "89       1\n",
       "98       1\n",
       "92       1\n",
       "Name: count, Length: 91, dtype: int64"
      ]
     },
     "execution_count": 75,
     "metadata": {},
     "output_type": "execute_result"
    }
   ],
   "source": [
    "users['age'].value_counts()"
   ]
  },
  {
   "cell_type": "code",
   "execution_count": 76,
   "metadata": {
    "colab": {
     "base_uri": "https://localhost:8080/"
    },
    "executionInfo": {
     "elapsed": 5,
     "status": "ok",
     "timestamp": 1681399547090,
     "user": {
      "displayName": "박예림",
      "userId": "02538636255865811244"
     },
     "user_tz": -540
    },
    "id": "20casArakAfJ",
    "outputId": "30ba28e3-f258-43ab-eba5-183fd4d34f62",
    "tags": []
   },
   "outputs": [
    {
     "data": {
      "text/plain": [
       "91"
      ]
     },
     "execution_count": 76,
     "metadata": {},
     "output_type": "execute_result"
    }
   ],
   "source": [
    "users['age'].nunique()"
   ]
  },
  {
   "cell_type": "code",
   "execution_count": 77,
   "metadata": {
    "colab": {
     "base_uri": "https://localhost:8080/",
     "height": 295
    },
    "executionInfo": {
     "elapsed": 987,
     "status": "ok",
     "timestamp": 1681399548074,
     "user": {
      "displayName": "박예림",
      "userId": "02538636255865811244"
     },
     "user_tz": -540
    },
    "id": "QEwlXx5FjRcC",
    "outputId": "91f1cdd8-00a2-411d-8b0a-5e5990fa80aa",
    "tags": []
   },
   "outputs": [
    {
     "data": {
      "image/png": "[encoded data removed]",
      "text/plain": [
       "<Figure size 3000x500 with 1 Axes>"
      ]
     },
     "metadata": {},
     "output_type": "display_data"
    }
   ],
   "source": [
    "plt.figure(figsize=(30,5))\n",
    "users['age'].value_counts().sort_index().plot(kind='bar')\n",
    "plt.xticks(rotation=30)\n",
    "plt.show()"
   ]
  },
  {
   "cell_type": "markdown",
   "metadata": {
    "id": "SxvASOzHloKk"
   },
   "source": [
    "20대 중반 ~ 30대 중반까지의 사용자가 많은 것을 확인할 수 있습니다.\n",
    "\n",
    "이번에는 사용자들의 거주 국가를 살펴보고 국가별로 사용자의 분포가 다른지 알아보겠습니다."
   ]
  },
  {
   "cell_type": "code",
   "execution_count": 78,
   "metadata": {
    "colab": {
     "base_uri": "https://localhost:8080/",
     "height": 625
    },
    "executionInfo": {
     "elapsed": 772,
     "status": "ok",
     "timestamp": 1681399548843,
     "user": {
      "displayName": "박예림",
      "userId": "02538636255865811244"
     },
     "user_tz": -540
    },
    "id": "t7WViZR0ZArC",
    "outputId": "9e25243d-2e62-4de4-95cd-26f19e0d2824",
    "tags": []
   },
   "outputs": [
    {
     "data": {
      "image/png": "[encoded data removed]",
      "text/plain": [
       "<Figure size 1100x600 with 1 Axes>"
      ]
     },
     "metadata": {},
     "output_type": "display_data"
    }
   ],
   "source": [
    "my_dict=(users['location_country'].value_counts()).to_dict()\n",
    "count= pd.DataFrame(list(my_dict.items()),columns = ['location_country','count'])\n",
    "f = count.sort_values(by=['count'], ascending = False)\n",
    "f = f.head(15)\n",
    "# f.drop(7,inplace=True)\n",
    "fig=plt.figure(figsize=(11,6))\n",
    "ax = sns.barplot(y = 'count',x= 'location_country' , data = f)\n",
    "ax.set_xticklabels(ax.get_xticklabels(), rotation=60,horizontalalignment='center')\n",
    "for bar in ax.patches: \n",
    "    ax.annotate(format(bar.get_height(), '.0f'),  \n",
    "                   (bar.get_x() + bar.get_width() / 2,  \n",
    "                    bar.get_height()), ha='center', va='center', \n",
    "                   size=8, xytext=(0,8), \n",
    "                   textcoords='offset points') \n",
    "\n",
    "plt.xlabel(\"Country\", size=10)\n",
    "plt.ylabel(\"# of Users\", size=10)\n",
    "plt.show()"
   ]
  },
  {
   "cell_type": "markdown",
   "metadata": {
    "id": "X9qxpva5ea1O"
   },
   "source": [
    "사용자의 대다수는 미국에 거주중인 것을 확인할 수 있습니다.\n",
    "\n",
    "국가별 사용자의 나이대를 알아보겠습니다.\n",
    "\n"
   ]
  },
  {
   "cell_type": "code",
   "execution_count": 79,
   "metadata": {
    "colab": {
     "base_uri": "https://localhost:8080/",
     "height": 613
    },
    "executionInfo": {
     "elapsed": 6164,
     "status": "ok",
     "timestamp": 1681399555005,
     "user": {
      "displayName": "박예림",
      "userId": "02538636255865811244"
     },
     "user_tz": -540
    },
    "id": "zmMvcrSwkRLn",
    "outputId": "a97ee220-5cc7-4434-e9ee-9f191f7105d7",
    "tags": []
   },
   "outputs": [
    {
     "data": {
      "image/png": "[encoded data removed]",
      "text/plain": [
       "<Figure size 2000x800 with 15 Axes>"
      ]
     },
     "metadata": {},
     "output_type": "display_data"
    }
   ],
   "source": [
    "fig, ax = plt.subplots(3,5,figsize=(20,8))\n",
    "for country, ax_ in zip(f['location_country'], ax.flatten()):\n",
    "    users[(users['location_country']==country)]['age'].value_counts().sort_index().plot(ax=ax_, title=country)\n",
    "plt.xlim(0,100)\n",
    "plt.tight_layout()\n",
    "plt.show()"
   ]
  },
  {
   "cell_type": "markdown",
   "metadata": {
    "id": "OBSZyTj87Tt4"
   },
   "source": [
    "대부분 20~30대 사용자가 많지만, 국가별로 사용자의 분포가 약간씩 차이가 있는 것을 확인할 수 있습니다."
   ]
  }
 ],
 "metadata": {
  "colab": {
   "provenance": [
    {
     "file_id": "1PgOn-27wNs0RZQdwz_FDif3dUMKNlCye",
     "timestamp": 1681111754819
    }
   ],
   "toc_visible": true
  },
  "kernelspec": {
   "display_name": "Python 3 (ipykernel)",
   "language": "python",
   "name": "python3"
  },
  "language_info": {
   "codemirror_mode": {
    "name": "ipython",
    "version": 3
   },
   "file_extension": ".py",
   "mimetype": "text/x-python",
   "name": "python",
   "nbconvert_exporter": "python",
   "pygments_lexer": "ipython3",
   "version": "3.8.5"
  }
 },
 "nbformat": 4,
 "nbformat_minor": 4
}
