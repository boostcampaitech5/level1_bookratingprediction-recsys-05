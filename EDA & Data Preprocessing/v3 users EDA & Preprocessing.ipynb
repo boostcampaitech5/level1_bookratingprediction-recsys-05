{
 "cells": [
  {
   "cell_type": "markdown",
   "metadata": {
    "id": "HPkQcjgasR2-"
   },
   "source": [
    "# Data"
   ]
  },
  {
   "cell_type": "code",
   "execution_count": 1,
   "metadata": {
    "id": "lVEmDp_FlyPW",
    "tags": []
   },
   "outputs": [],
   "source": [
    "import pandas as pd\n",
    "import numpy as np\n",
    "import seaborn as sns\n",
    "import matplotlib.pyplot as plt"
   ]
  },
  {
   "cell_type": "code",
   "execution_count": 2,
   "metadata": {
    "colab": {
     "base_uri": "https://localhost:8080/"
    },
    "executionInfo": {
     "elapsed": 908,
     "status": "ok",
     "timestamp": 1681447838194,
     "user": {
      "displayName": "박예림",
      "userId": "02538636255865811244"
     },
     "user_tz": -540
    },
    "id": "WN-q4u-8nCIe",
    "outputId": "fe8e6e65-b767-41b5-98d3-1ea9cf93c13e",
    "tags": []
   },
   "outputs": [
    {
     "name": "stdout",
     "output_type": "stream",
     "text": [
      "users shape:  (68092, 5)\n",
      "books shape:  (149570, 11)\n",
      "train_ratings shape:  (306795, 3)\n",
      "test_ratings shape:  (76699, 3)\n"
     ]
    }
   ],
   "source": [
    "data_path = '../data/'\n",
    "v_data_path='../data/v2/'\n",
    "\n",
    "path = v_data_path\n",
    "\n",
    "users = pd.read_csv(path+'users.csv')\n",
    "books = pd.read_csv(path+'books.csv')\n",
    "train_ratings = pd.read_csv(path+'train_ratings.csv')\n",
    "test_ratings = pd.read_csv(path+'test_ratings.csv')\n",
    "\n",
    "print('users shape: ', users.shape)\n",
    "print('books shape: ', books.shape)\n",
    "print('train_ratings shape: ', train_ratings.shape)\n",
    "print('test_ratings shape: ', test_ratings.shape)"
   ]
  },
  {
   "attachments": {},
   "cell_type": "markdown",
   "metadata": {
    "id": "yUg3CX3wzPfG"
   },
   "source": [
    "# Merge"
   ]
  },
  {
   "cell_type": "code",
   "execution_count": 3,
   "metadata": {
    "colab": {
     "base_uri": "https://localhost:8080/"
    },
    "executionInfo": {
     "elapsed": 446,
     "status": "ok",
     "timestamp": 1681401630633,
     "user": {
      "displayName": "박예림",
      "userId": "02538636255865811244"
     },
     "user_tz": -540
    },
    "id": "TqbsORelxkHm",
    "outputId": "bcbff074-2894-4fc7-d0ef-b3f8607225e3",
    "tags": []
   },
   "outputs": [
    {
     "name": "stdout",
     "output_type": "stream",
     "text": [
      "merge 결과 shape:  (306795, 17)\n"
     ]
    }
   ],
   "source": [
    "merge1 = train_ratings.merge(books, how='left', on='isbn')\n",
    "data = merge1.merge(users, how='inner', on='user_id')\n",
    "print('merge 결과 shape: ', data.shape)"
   ]
  },
  {
   "cell_type": "code",
   "execution_count": 4,
   "metadata": {
    "colab": {
     "base_uri": "https://localhost:8080/"
    },
    "executionInfo": {
     "elapsed": 325,
     "status": "ok",
     "timestamp": 1681401632736,
     "user": {
      "displayName": "박예림",
      "userId": "02538636255865811244"
     },
     "user_tz": -540
    },
    "id": "zC7auykbztMr",
    "outputId": "62e882e8-b927-4000-ee61-c346869c698c",
    "tags": []
   },
   "outputs": [
    {
     "data": {
      "text/plain": [
       "(306795, 3)"
      ]
     },
     "execution_count": 4,
     "metadata": {},
     "output_type": "execute_result"
    }
   ],
   "source": [
    "train_ratings.shape\n",
    "# ratings 기록 갯수만큼 결과가 나온것을 확인 할 수 있습니다."
   ]
  },
  {
   "cell_type": "code",
   "execution_count": 5,
   "metadata": {
    "colab": {
     "base_uri": "https://localhost:8080/"
    },
    "executionInfo": {
     "elapsed": 2,
     "status": "ok",
     "timestamp": 1681401634578,
     "user": {
      "displayName": "박예림",
      "userId": "02538636255865811244"
     },
     "user_tz": -540
    },
    "id": "SJedxF_Bz-F2",
    "outputId": "c48c8354-d069-4532-d356-d7049d0ba3cd",
    "tags": []
   },
   "outputs": [
    {
     "data": {
      "text/plain": [
       "set()"
      ]
     },
     "execution_count": 5,
     "metadata": {},
     "output_type": "execute_result"
    }
   ],
   "source": [
    "set(train_ratings['isbn']) - set(books['isbn']) "
   ]
  },
  {
   "cell_type": "markdown",
   "metadata": {
    "tags": []
   },
   "source": [
    "## user별 rating 횟수 추가"
   ]
  },
  {
   "cell_type": "code",
   "execution_count": 6,
   "metadata": {
    "tags": []
   },
   "outputs": [
    {
     "data": {
      "text/html": [
       "<div>\n",
       "<style scoped>\n",
       "    .dataframe tbody tr th:only-of-type {\n",
       "        vertical-align: middle;\n",
       "    }\n",
       "\n",
       "    .dataframe tbody tr th {\n",
       "        vertical-align: top;\n",
       "    }\n",
       "\n",
       "    .dataframe thead th {\n",
       "        text-align: right;\n",
       "    }\n",
       "</style>\n",
       "<table border=\"1\" class=\"dataframe\">\n",
       "  <thead>\n",
       "    <tr style=\"text-align: right;\">\n",
       "      <th></th>\n",
       "      <th>user_id</th>\n",
       "      <th>isbn</th>\n",
       "      <th>rating</th>\n",
       "      <th>book_title</th>\n",
       "      <th>book_author</th>\n",
       "      <th>year_of_publication</th>\n",
       "      <th>publisher</th>\n",
       "      <th>img_url</th>\n",
       "      <th>language</th>\n",
       "      <th>category</th>\n",
       "      <th>summary</th>\n",
       "      <th>img_path</th>\n",
       "      <th>category_high</th>\n",
       "      <th>age</th>\n",
       "      <th>location_city</th>\n",
       "      <th>location_state</th>\n",
       "      <th>location_country</th>\n",
       "    </tr>\n",
       "  </thead>\n",
       "  <tbody>\n",
       "    <tr>\n",
       "      <th>0</th>\n",
       "      <td>8</td>\n",
       "      <td>0002005018</td>\n",
       "      <td>4</td>\n",
       "      <td>Clara Callan</td>\n",
       "      <td>Richard Bruce Wright</td>\n",
       "      <td>2001.0</td>\n",
       "      <td>Collins</td>\n",
       "      <td>http://images.amazon.com/images/P/0002005018.0...</td>\n",
       "      <td>en</td>\n",
       "      <td>actresses</td>\n",
       "      <td>In a small town in Canada, Clara Callan reluct...</td>\n",
       "      <td>images/0002005018.01.THUMBZZZ.jpg</td>\n",
       "      <td>others</td>\n",
       "      <td>24</td>\n",
       "      <td>timmins</td>\n",
       "      <td>ontario</td>\n",
       "      <td>canada</td>\n",
       "    </tr>\n",
       "    <tr>\n",
       "      <th>1</th>\n",
       "      <td>8</td>\n",
       "      <td>074322678X</td>\n",
       "      <td>4</td>\n",
       "      <td>Where You'll Find Me: And Other Stories</td>\n",
       "      <td>Ann Beattie</td>\n",
       "      <td>2002.0</td>\n",
       "      <td>Pocket</td>\n",
       "      <td>http://images.amazon.com/images/P/074322678X.0...</td>\n",
       "      <td>en</td>\n",
       "      <td>fiction</td>\n",
       "      <td>Now back in print, Ann Beattie&amp;#39;s finest sh...</td>\n",
       "      <td>images/074322678X.01.THUMBZZZ.jpg</td>\n",
       "      <td>fiction</td>\n",
       "      <td>24</td>\n",
       "      <td>timmins</td>\n",
       "      <td>ontario</td>\n",
       "      <td>canada</td>\n",
       "    </tr>\n",
       "    <tr>\n",
       "      <th>2</th>\n",
       "      <td>8</td>\n",
       "      <td>0887841740</td>\n",
       "      <td>2</td>\n",
       "      <td>The Middle Stories</td>\n",
       "      <td>Sheila Heti</td>\n",
       "      <td>2004.0</td>\n",
       "      <td>HarperBusiness</td>\n",
       "      <td>http://images.amazon.com/images/P/0887841740.0...</td>\n",
       "      <td>en</td>\n",
       "      <td>NaN</td>\n",
       "      <td>NaN</td>\n",
       "      <td>images/0887841740.01.THUMBZZZ.jpg</td>\n",
       "      <td>NaN</td>\n",
       "      <td>24</td>\n",
       "      <td>timmins</td>\n",
       "      <td>ontario</td>\n",
       "      <td>canada</td>\n",
       "    </tr>\n",
       "    <tr>\n",
       "      <th>3</th>\n",
       "      <td>8</td>\n",
       "      <td>1552041778</td>\n",
       "      <td>2</td>\n",
       "      <td>Jane Doe</td>\n",
       "      <td>R. J. Kaiser</td>\n",
       "      <td>1999.0</td>\n",
       "      <td>Firefly Books Ltd</td>\n",
       "      <td>http://images.amazon.com/images/P/1552041778.0...</td>\n",
       "      <td>en</td>\n",
       "      <td>NaN</td>\n",
       "      <td>NaN</td>\n",
       "      <td>images/1552041778.01.THUMBZZZ.jpg</td>\n",
       "      <td>NaN</td>\n",
       "      <td>24</td>\n",
       "      <td>timmins</td>\n",
       "      <td>ontario</td>\n",
       "      <td>canada</td>\n",
       "    </tr>\n",
       "    <tr>\n",
       "      <th>4</th>\n",
       "      <td>8</td>\n",
       "      <td>1567407781</td>\n",
       "      <td>6</td>\n",
       "      <td>The Witchfinder (Amos Walker Mystery Series)</td>\n",
       "      <td>Loren D. Estleman</td>\n",
       "      <td>1998.0</td>\n",
       "      <td>Llewellyn Publications</td>\n",
       "      <td>http://images.amazon.com/images/P/1567407781.0...</td>\n",
       "      <td>en</td>\n",
       "      <td>NaN</td>\n",
       "      <td>NaN</td>\n",
       "      <td>images/1567407781.01.THUMBZZZ.jpg</td>\n",
       "      <td>NaN</td>\n",
       "      <td>24</td>\n",
       "      <td>timmins</td>\n",
       "      <td>ontario</td>\n",
       "      <td>canada</td>\n",
       "    </tr>\n",
       "  </tbody>\n",
       "</table>\n",
       "</div>"
      ],
      "text/plain": [
       "   user_id        isbn  rating                                    book_title  \\\n",
       "0        8  0002005018       4                                  Clara Callan   \n",
       "1        8  074322678X       4       Where You'll Find Me: And Other Stories   \n",
       "2        8  0887841740       2                            The Middle Stories   \n",
       "3        8  1552041778       2                                      Jane Doe   \n",
       "4        8  1567407781       6  The Witchfinder (Amos Walker Mystery Series)   \n",
       "\n",
       "            book_author  year_of_publication               publisher  \\\n",
       "0  Richard Bruce Wright               2001.0                 Collins   \n",
       "1           Ann Beattie               2002.0                  Pocket   \n",
       "2           Sheila Heti               2004.0          HarperBusiness   \n",
       "3          R. J. Kaiser               1999.0       Firefly Books Ltd   \n",
       "4     Loren D. Estleman               1998.0  Llewellyn Publications   \n",
       "\n",
       "                                             img_url language   category  \\\n",
       "0  http://images.amazon.com/images/P/0002005018.0...       en  actresses   \n",
       "1  http://images.amazon.com/images/P/074322678X.0...       en    fiction   \n",
       "2  http://images.amazon.com/images/P/0887841740.0...       en        NaN   \n",
       "3  http://images.amazon.com/images/P/1552041778.0...       en        NaN   \n",
       "4  http://images.amazon.com/images/P/1567407781.0...       en        NaN   \n",
       "\n",
       "                                             summary  \\\n",
       "0  In a small town in Canada, Clara Callan reluct...   \n",
       "1  Now back in print, Ann Beattie&#39;s finest sh...   \n",
       "2                                                NaN   \n",
       "3                                                NaN   \n",
       "4                                                NaN   \n",
       "\n",
       "                            img_path category_high  age location_city  \\\n",
       "0  images/0002005018.01.THUMBZZZ.jpg        others   24       timmins   \n",
       "1  images/074322678X.01.THUMBZZZ.jpg       fiction   24       timmins   \n",
       "2  images/0887841740.01.THUMBZZZ.jpg           NaN   24       timmins   \n",
       "3  images/1552041778.01.THUMBZZZ.jpg           NaN   24       timmins   \n",
       "4  images/1567407781.01.THUMBZZZ.jpg           NaN   24       timmins   \n",
       "\n",
       "  location_state location_country  \n",
       "0        ontario           canada  \n",
       "1        ontario           canada  \n",
       "2        ontario           canada  \n",
       "3        ontario           canada  \n",
       "4        ontario           canada  "
      ]
     },
     "execution_count": 6,
     "metadata": {},
     "output_type": "execute_result"
    }
   ],
   "source": [
    "data.head()"
   ]
  },
  {
   "cell_type": "code",
   "execution_count": 7,
   "metadata": {
    "tags": []
   },
   "outputs": [
    {
     "name": "stdout",
     "output_type": "stream",
     "text": [
      "<class 'pandas.core.frame.DataFrame'>\n",
      "Int64Index: 306795 entries, 0 to 306794\n",
      "Data columns (total 17 columns):\n",
      " #   Column               Non-Null Count   Dtype  \n",
      "---  ------               --------------   -----  \n",
      " 0   user_id              306795 non-null  int64  \n",
      " 1   isbn                 306795 non-null  object \n",
      " 2   rating               306795 non-null  int64  \n",
      " 3   book_title           306795 non-null  object \n",
      " 4   book_author          306794 non-null  object \n",
      " 5   year_of_publication  306795 non-null  float64\n",
      " 6   publisher            306795 non-null  object \n",
      " 7   img_url              306795 non-null  object \n",
      " 8   language             306795 non-null  object \n",
      " 9   category             185574 non-null  object \n",
      " 10  summary              187711 non-null  object \n",
      " 11  img_path             306795 non-null  object \n",
      " 12  category_high        185574 non-null  object \n",
      " 13  age                  306795 non-null  int64  \n",
      " 14  location_city        306795 non-null  object \n",
      " 15  location_state       306795 non-null  object \n",
      " 16  location_country     306795 non-null  object \n",
      "dtypes: float64(1), int64(3), object(13)\n",
      "memory usage: 42.1+ MB\n"
     ]
    }
   ],
   "source": [
    "data.info()"
   ]
  },
  {
   "cell_type": "code",
   "execution_count": 8,
   "metadata": {
    "tags": []
   },
   "outputs": [
    {
     "data": {
      "text/plain": [
       "user_id\n",
       "8          7\n",
       "9          1\n",
       "12         1\n",
       "14         2\n",
       "16         1\n",
       "          ..\n",
       "278846     1\n",
       "278849     1\n",
       "278851    12\n",
       "278852     1\n",
       "278854     3\n",
       "Name: rating, Length: 59803, dtype: int64"
      ]
     },
     "execution_count": 8,
     "metadata": {},
     "output_type": "execute_result"
    }
   ],
   "source": [
    "rating_cnt_by_user = data.groupby('user_id')['rating'].count() # user별 rating 횟수 컬럼 추가\n",
    "rating_cnt_by_user"
   ]
  },
  {
   "cell_type": "code",
   "execution_count": 9,
   "metadata": {
    "tags": []
   },
   "outputs": [
    {
     "data": {
      "text/html": [
       "<div>\n",
       "<style scoped>\n",
       "    .dataframe tbody tr th:only-of-type {\n",
       "        vertical-align: middle;\n",
       "    }\n",
       "\n",
       "    .dataframe tbody tr th {\n",
       "        vertical-align: top;\n",
       "    }\n",
       "\n",
       "    .dataframe thead th {\n",
       "        text-align: right;\n",
       "    }\n",
       "</style>\n",
       "<table border=\"1\" class=\"dataframe\">\n",
       "  <thead>\n",
       "    <tr style=\"text-align: right;\">\n",
       "      <th></th>\n",
       "      <th>user_id</th>\n",
       "      <th>age</th>\n",
       "      <th>location_city</th>\n",
       "      <th>location_state</th>\n",
       "      <th>location_country</th>\n",
       "      <th>rating_count</th>\n",
       "    </tr>\n",
       "  </thead>\n",
       "  <tbody>\n",
       "    <tr>\n",
       "      <th>0</th>\n",
       "      <td>8</td>\n",
       "      <td>24</td>\n",
       "      <td>timmins</td>\n",
       "      <td>ontario</td>\n",
       "      <td>canada</td>\n",
       "      <td>7.0</td>\n",
       "    </tr>\n",
       "    <tr>\n",
       "      <th>1</th>\n",
       "      <td>11400</td>\n",
       "      <td>49</td>\n",
       "      <td>ottawa</td>\n",
       "      <td>ontario</td>\n",
       "      <td>canada</td>\n",
       "      <td>12.0</td>\n",
       "    </tr>\n",
       "    <tr>\n",
       "      <th>2</th>\n",
       "      <td>11676</td>\n",
       "      <td>36</td>\n",
       "      <td>logansport</td>\n",
       "      <td>macedonia</td>\n",
       "      <td>russia</td>\n",
       "      <td>5520.0</td>\n",
       "    </tr>\n",
       "    <tr>\n",
       "      <th>3</th>\n",
       "      <td>67544</td>\n",
       "      <td>30</td>\n",
       "      <td>toronto</td>\n",
       "      <td>ontario</td>\n",
       "      <td>canada</td>\n",
       "      <td>7.0</td>\n",
       "    </tr>\n",
       "    <tr>\n",
       "      <th>4</th>\n",
       "      <td>85526</td>\n",
       "      <td>36</td>\n",
       "      <td>victoria</td>\n",
       "      <td>britishcolumbia</td>\n",
       "      <td>canada</td>\n",
       "      <td>120.0</td>\n",
       "    </tr>\n",
       "    <tr>\n",
       "      <th>...</th>\n",
       "      <td>...</td>\n",
       "      <td>...</td>\n",
       "      <td>...</td>\n",
       "      <td>...</td>\n",
       "      <td>...</td>\n",
       "      <td>...</td>\n",
       "    </tr>\n",
       "    <tr>\n",
       "      <th>68087</th>\n",
       "      <td>278376</td>\n",
       "      <td>54</td>\n",
       "      <td>danville</td>\n",
       "      <td>california</td>\n",
       "      <td>usa</td>\n",
       "      <td>1.0</td>\n",
       "    </tr>\n",
       "    <tr>\n",
       "      <th>68088</th>\n",
       "      <td>278621</td>\n",
       "      <td>74</td>\n",
       "      <td>victoria</td>\n",
       "      <td>delaware</td>\n",
       "      <td>canada</td>\n",
       "      <td>1.0</td>\n",
       "    </tr>\n",
       "    <tr>\n",
       "      <th>68089</th>\n",
       "      <td>278636</td>\n",
       "      <td>32</td>\n",
       "      <td>irvington</td>\n",
       "      <td>alabama</td>\n",
       "      <td>usa</td>\n",
       "      <td>1.0</td>\n",
       "    </tr>\n",
       "    <tr>\n",
       "      <th>68090</th>\n",
       "      <td>278659</td>\n",
       "      <td>33</td>\n",
       "      <td>vancouver</td>\n",
       "      <td>britishcolumbia</td>\n",
       "      <td>canada</td>\n",
       "      <td>1.0</td>\n",
       "    </tr>\n",
       "    <tr>\n",
       "      <th>68091</th>\n",
       "      <td>278713</td>\n",
       "      <td>63</td>\n",
       "      <td>albuquerque</td>\n",
       "      <td>newmexico</td>\n",
       "      <td>usa</td>\n",
       "      <td>1.0</td>\n",
       "    </tr>\n",
       "  </tbody>\n",
       "</table>\n",
       "<p>68092 rows × 6 columns</p>\n",
       "</div>"
      ],
      "text/plain": [
       "       user_id  age location_city   location_state location_country  \\\n",
       "0            8   24       timmins          ontario           canada   \n",
       "1        11400   49        ottawa          ontario           canada   \n",
       "2        11676   36    logansport        macedonia           russia   \n",
       "3        67544   30       toronto          ontario           canada   \n",
       "4        85526   36      victoria  britishcolumbia           canada   \n",
       "...        ...  ...           ...              ...              ...   \n",
       "68087   278376   54      danville       california              usa   \n",
       "68088   278621   74      victoria         delaware           canada   \n",
       "68089   278636   32     irvington          alabama              usa   \n",
       "68090   278659   33     vancouver  britishcolumbia           canada   \n",
       "68091   278713   63   albuquerque        newmexico              usa   \n",
       "\n",
       "       rating_count  \n",
       "0               7.0  \n",
       "1              12.0  \n",
       "2            5520.0  \n",
       "3               7.0  \n",
       "4             120.0  \n",
       "...             ...  \n",
       "68087           1.0  \n",
       "68088           1.0  \n",
       "68089           1.0  \n",
       "68090           1.0  \n",
       "68091           1.0  \n",
       "\n",
       "[68092 rows x 6 columns]"
      ]
     },
     "execution_count": 9,
     "metadata": {},
     "output_type": "execute_result"
    }
   ],
   "source": [
    "users = users.merge(rating_cnt_by_user, on='user_id', how='left')\n",
    "users.columns = ['user_id', 'age', 'location_city', 'location_state', 'location_country', 'rating_count']\n",
    "users"
   ]
  },
  {
   "cell_type": "code",
   "execution_count": 10,
   "metadata": {
    "tags": []
   },
   "outputs": [
    {
     "data": {
      "text/plain": [
       "<AxesSubplot:>"
      ]
     },
     "execution_count": 10,
     "metadata": {},
     "output_type": "execute_result"
    },
    {
     "data": {
      "image/png": "[encoded data removed]",
      "text/plain": [
       "<Figure size 432x288 with 1 Axes>"
      ]
     },
     "metadata": {
      "needs_background": "light"
     },
     "output_type": "display_data"
    }
   ],
   "source": [
    "users['rating_count'].plot() # rating_count 분포 파악"
   ]
  },
  {
   "cell_type": "code",
   "execution_count": 11,
   "metadata": {
    "tags": []
   },
   "outputs": [
    {
     "data": {
      "text/plain": [
       "count    59803.000000\n",
       "mean         5.130094\n",
       "std         35.517624\n",
       "min          1.000000\n",
       "25%          1.000000\n",
       "50%          1.000000\n",
       "75%          3.000000\n",
       "max       5520.000000\n",
       "Name: rating_count, dtype: float64"
      ]
     },
     "execution_count": 11,
     "metadata": {},
     "output_type": "execute_result"
    }
   ],
   "source": [
    "users['rating_count'].describe()"
   ]
  },
  {
   "cell_type": "code",
   "execution_count": 12,
   "metadata": {
    "tags": []
   },
   "outputs": [
    {
     "data": {
      "text/plain": [
       "user_id                0\n",
       "age                    0\n",
       "location_city          0\n",
       "location_state         0\n",
       "location_country       0\n",
       "rating_count        8289\n",
       "dtype: int64"
      ]
     },
     "execution_count": 12,
     "metadata": {},
     "output_type": "execute_result"
    }
   ],
   "source": [
    "users.isna().sum()"
   ]
  },
  {
   "cell_type": "markdown",
   "metadata": {},
   "source": [
    "rating_count 컬럼의 결측값은 대부분 user의 rating 기록이 없는 경우일 것이다.\n",
    "\n",
    "따라서 rating_count 컬럼의 결측값은 0으로 채워 준다."
   ]
  },
  {
   "cell_type": "code",
   "execution_count": 13,
   "metadata": {
    "tags": []
   },
   "outputs": [],
   "source": [
    "users['rating_count'].fillna(0, inplace=True)"
   ]
  },
  {
   "cell_type": "code",
   "execution_count": 14,
   "metadata": {
    "tags": []
   },
   "outputs": [],
   "source": [
    "users['rating_count'] = users['rating_count'].astype(int)"
   ]
  },
  {
   "cell_type": "code",
   "execution_count": 15,
   "metadata": {
    "tags": []
   },
   "outputs": [
    {
     "data": {
      "text/plain": [
       "user_id             0\n",
       "age                 0\n",
       "location_city       0\n",
       "location_state      0\n",
       "location_country    0\n",
       "rating_count        0\n",
       "dtype: int64"
      ]
     },
     "execution_count": 15,
     "metadata": {},
     "output_type": "execute_result"
    }
   ],
   "source": [
    "users.isna().sum()"
   ]
  },
  {
   "cell_type": "code",
   "execution_count": 16,
   "metadata": {},
   "outputs": [
    {
     "name": "stdout",
     "output_type": "stream",
     "text": [
      "<class 'pandas.core.frame.DataFrame'>\n",
      "Int64Index: 68092 entries, 0 to 68091\n",
      "Data columns (total 6 columns):\n",
      " #   Column            Non-Null Count  Dtype \n",
      "---  ------            --------------  ----- \n",
      " 0   user_id           68092 non-null  int64 \n",
      " 1   age               68092 non-null  int64 \n",
      " 2   location_city     68092 non-null  object\n",
      " 3   location_state    68092 non-null  object\n",
      " 4   location_country  68092 non-null  object\n",
      " 5   rating_count      68092 non-null  int32 \n",
      "dtypes: int32(1), int64(2), object(3)\n",
      "memory usage: 3.4+ MB\n"
     ]
    }
   ],
   "source": [
    "users.info()"
   ]
  },
  {
   "cell_type": "code",
   "execution_count": 4,
   "metadata": {
    "tags": []
   },
   "outputs": [],
   "source": [
    "users.to_csv(data_path + 'v3/users.csv', index=False)"
   ]
  }
 ],
 "metadata": {
  "colab": {
   "provenance": [
    {
     "file_id": "1PgOn-27wNs0RZQdwz_FDif3dUMKNlCye",
     "timestamp": 1681111754819
    }
   ],
   "toc_visible": true
  },
  "kernelspec": {
   "display_name": "Python 3 (ipykernel)",
   "language": "python",
   "name": "python3"
  },
  "language_info": {
   "codemirror_mode": {
    "name": "ipython",
    "version": 3
   },
   "file_extension": ".py",
   "mimetype": "text/x-python",
   "name": "python",
   "nbconvert_exporter": "python",
   "pygments_lexer": "ipython3",
   "version": "3.8.11"
  }
 },
 "nbformat": 4,
 "nbformat_minor": 4
}
