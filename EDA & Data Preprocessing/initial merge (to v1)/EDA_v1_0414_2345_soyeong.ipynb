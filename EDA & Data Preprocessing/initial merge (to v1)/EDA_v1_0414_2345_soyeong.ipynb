{
 "cells": [
  {
   "cell_type": "code",
   "execution_count": 5,
   "metadata": {},
   "outputs": [],
   "source": [
    "import pandas as pd\n",
    "import numpy as np\n",
    "import seaborn as sns\n",
    "import matplotlib.pyplot as plt"
   ]
  },
  {
   "cell_type": "code",
   "execution_count": 6,
   "metadata": {},
   "outputs": [
    {
     "name": "stdout",
     "output_type": "stream",
     "text": [
      "users shape:  (68092, 3)\n",
      "books shape:  (149570, 10)\n",
      "ratings shape:  (306795, 3)\n",
      "test_ratings shape: (76699, 3)\n"
     ]
    }
   ],
   "source": [
    "path='./data/'\n",
    "\n",
    "users = pd.read_csv(path+'users.csv')\n",
    "books = pd.read_csv(path+'books.csv')\n",
    "ratings = pd.read_csv(path+'train_ratings.csv')\n",
    "test_ratings = pd.read_csv(path+'test_ratings.csv')\n",
    "\n",
    "print('users shape: ', users.shape)\n",
    "print('books shape: ', books.shape)\n",
    "print('ratings shape: ', ratings.shape)\n",
    "print('test_ratings shape:', test_ratings.shape)"
   ]
  },
  {
   "attachments": {},
   "cell_type": "markdown",
   "metadata": {},
   "source": [
    "### users"
   ]
  },
  {
   "cell_type": "code",
   "execution_count": 7,
   "metadata": {},
   "outputs": [],
   "source": [
    "users['location'] = users['location'].str.replace(r'[^0-9a-zA-Z:,]', '') # 특수문자 제거\n",
    "\n",
    "users['location_city'] = users['location'].apply(lambda x: x.split(',')[0].strip())\n",
    "users['location_state'] = users['location'].apply(lambda x: x.split(',')[1].strip())\n",
    "users['location_country'] = users['location'].apply(lambda x: x.split(',')[2].strip())\n",
    "\n",
    "users = users.replace('na', np.nan) #특수문자 제거로 n/a가 na로 바뀌게 되었습니다. 따라서 이를 컴퓨터가 인식할 수 있는 결측값으로 변환합니다.\n",
    "users = users.replace('', np.nan) # 일부 경우 , , ,으로 입력된 경우가 있었으므로 이런 경우에도 결측값으로 변환합니다."
   ]
  },
  {
   "cell_type": "code",
   "execution_count": 8,
   "metadata": {},
   "outputs": [
    {
     "name": "stderr",
     "output_type": "stream",
     "text": [
      "/var/folders/3z/9j74ngy963l3g839jzscb97w0000gn/T/ipykernel_38470/191084157.py:6: UserWarning: This pattern is interpreted as a regular expression, and has match groups. To actually get the groups, use str.extract.\n",
      "  right_location = users[(users['location'].str.contains(location)) & (users['location_state'].notnull()) & (users['location_country'].notnull())]['location'].value_counts().index[0]\n",
      "/var/folders/3z/9j74ngy963l3g839jzscb97w0000gn/T/ipykernel_38470/191084157.py:6: UserWarning: This pattern is interpreted as a regular expression, and has match groups. To actually get the groups, use str.extract.\n",
      "  right_location = users[(users['location'].str.contains(location)) & (users['location_state'].notnull()) & (users['location_country'].notnull())]['location'].value_counts().index[0]\n"
     ]
    }
   ],
   "source": [
    "modify_location = users[(users['location_country'].isna())&(users['location_city'].notnull())]['location_city'].values\n",
    "\n",
    "location_list = []\n",
    "for location in modify_location:\n",
    "    try:\n",
    "        right_location = users[(users['location'].str.contains(location)) & (users['location_state'].notnull()) & (users['location_country'].notnull())]['location'].value_counts().index[0]\n",
    "        location_list.append(right_location)\n",
    "    except:\n",
    "        pass"
   ]
  },
  {
   "cell_type": "code",
   "execution_count": 9,
   "metadata": {},
   "outputs": [],
   "source": [
    "for location in location_list:\n",
    "    users.loc[users[users['location_city']==location.split(',')[0]].index,'location_state'] = location.split(',')[1].strip()\n",
    "    users.loc[users[users['location_city']==location.split(',')[0]].index,'location_country'] = location.split(',')[2].strip()"
   ]
  },
  {
   "attachments": {},
   "cell_type": "markdown",
   "metadata": {},
   "source": [
    "### book"
   ]
  },
  {
   "cell_type": "code",
   "execution_count": 10,
   "metadata": {},
   "outputs": [],
   "source": [
    "publisher_dict=(books['publisher'].value_counts()).to_dict()\n",
    "publisher_count_df= pd.DataFrame(list(publisher_dict.items()),columns = ['publisher','count'])\n",
    "\n",
    "publisher_count_df = publisher_count_df.sort_values(by=['count'], ascending = False)"
   ]
  },
  {
   "cell_type": "code",
   "execution_count": 11,
   "metadata": {},
   "outputs": [],
   "source": [
    "modify_list = publisher_count_df[publisher_count_df['count']>1].publisher.values"
   ]
  },
  {
   "cell_type": "code",
   "execution_count": 12,
   "metadata": {},
   "outputs": [],
   "source": [
    "for publisher in modify_list:\n",
    "    try:\n",
    "        number = books[books['publisher']==publisher]['isbn'].apply(lambda x: x[:4]).value_counts().index[0]\n",
    "        right_publisher = books[books['isbn'].apply(lambda x: x[:4])==number]['publisher'].value_counts().index[0]\n",
    "        books.loc[books[books['isbn'].apply(lambda x: x[:4])==number].index,'publisher'] = right_publisher\n",
    "    except: \n",
    "        pass"
   ]
  },
  {
   "cell_type": "code",
   "execution_count": 13,
   "metadata": {},
   "outputs": [],
   "source": [
    "import re\n",
    "books.loc[books[books['category'].notnull()].index, 'category'] = books[books['category'].notnull()]['category'].apply(lambda x: re.sub('[\\W_]+',' ',x).strip())"
   ]
  },
  {
   "cell_type": "code",
   "execution_count": 14,
   "metadata": {},
   "outputs": [],
   "source": [
    "books['category'] = books['category'].str.lower()"
   ]
  },
  {
   "cell_type": "code",
   "execution_count": 15,
   "metadata": {},
   "outputs": [],
   "source": [
    "category_df = pd.DataFrame(books['category'].value_counts()).reset_index()\n",
    "category_df.columns = ['category','count']"
   ]
  },
  {
   "cell_type": "code",
   "execution_count": 16,
   "metadata": {},
   "outputs": [
    {
     "name": "stdout",
     "output_type": "stream",
     "text": [
      "['fiction', 'social', 'science', 'humor', 'body', 'business', 'cooking', 'family', 'self', 'psychology', 'poetry', 'philosophy', 'drama', 'arts', 'language', 'education', 'music', 'detective', 'mystery', 'stories', 'children', 'photography', 'animals', 'adventure', 'american', 'english', 'christian', 'life', 'england', 'fantasy', 'german', 'authors', 'african', 'americans', 'france', 'french', 'literature', 'books', 'motion', 'picture', 'child', 'indians', 'germany', 'cookery', 'australian', 'short', 'behavior', 'canadian', 'medicine', '1945', 'imaginary', 'place', 'computer', 'fictitious', 'character', 'women', 'electronic', 'calif', 'spanish', 'communication', 'characters', 'school', 'human', 'program', 'animal', 'mythology', 'ethics', 'culture', 'management', 'greek', 'book', 'portuguese', 'game', 'films', 'texts', 'chinese', 'trade', 'geschichte', 'belletristische', 'darstellung', 'television', 'industry', 'black', 'programs', 'law', 'art', 'man', 'gay', 'men', 'war', 'god', 'dog', 'cat', 'sex']\n"
     ]
    }
   ],
   "source": [
    "from collections import defaultdict\n",
    "\n",
    "categories = defaultdict(int)\n",
    "\n",
    "for category in category_df['category']:\n",
    "    cs = category.split()\n",
    "    for c in cs:\n",
    "        categories[c] += 1\n",
    "\n",
    "common_category = []\n",
    "for k, v in categories.items():\n",
    "    if v >= 10 and len(k) > 3:\n",
    "        common_category.append(k)\n",
    "\n",
    "common_category.append('law')\n",
    "common_category.append('art')\n",
    "common_category.append('man')\n",
    "common_category.append('gay')\n",
    "common_category.append('men')\n",
    "common_category.append('war')\n",
    "common_category.append('god')\n",
    "common_category.append('dog')\n",
    "common_category.append('cat')\n",
    "common_category.append('sex')\n",
    "\n",
    "print(common_category)\n",
    "\n",
    "# law art man gay men war god dog cat sex"
   ]
  },
  {
   "cell_type": "code",
   "execution_count": 17,
   "metadata": {},
   "outputs": [
    {
     "data": {
      "text/html": [
       "<div>\n",
       "<style scoped>\n",
       "    .dataframe tbody tr th:only-of-type {\n",
       "        vertical-align: middle;\n",
       "    }\n",
       "\n",
       "    .dataframe tbody tr th {\n",
       "        vertical-align: top;\n",
       "    }\n",
       "\n",
       "    .dataframe thead th {\n",
       "        text-align: right;\n",
       "    }\n",
       "</style>\n",
       "<table border=\"1\" class=\"dataframe\">\n",
       "  <thead>\n",
       "    <tr style=\"text-align: right;\">\n",
       "      <th></th>\n",
       "      <th>category</th>\n",
       "      <th>count</th>\n",
       "    </tr>\n",
       "  </thead>\n",
       "  <tbody>\n",
       "    <tr>\n",
       "      <th>0</th>\n",
       "      <td>fiction</td>\n",
       "      <td>40551</td>\n",
       "    </tr>\n",
       "    <tr>\n",
       "      <th>1</th>\n",
       "      <td>science</td>\n",
       "      <td>2381</td>\n",
       "    </tr>\n",
       "    <tr>\n",
       "      <th>2</th>\n",
       "      <td>art</td>\n",
       "      <td>1581</td>\n",
       "    </tr>\n",
       "    <tr>\n",
       "      <th>3</th>\n",
       "      <td>humor</td>\n",
       "      <td>1166</td>\n",
       "    </tr>\n",
       "    <tr>\n",
       "      <th>4</th>\n",
       "      <td>body</td>\n",
       "      <td>1123</td>\n",
       "    </tr>\n",
       "    <tr>\n",
       "      <th>...</th>\n",
       "      <td>...</td>\n",
       "      <td>...</td>\n",
       "    </tr>\n",
       "    <tr>\n",
       "      <th>76</th>\n",
       "      <td>imaginary</td>\n",
       "      <td>8</td>\n",
       "    </tr>\n",
       "    <tr>\n",
       "      <th>77</th>\n",
       "      <td>gay</td>\n",
       "      <td>7</td>\n",
       "    </tr>\n",
       "    <tr>\n",
       "      <th>78</th>\n",
       "      <td>geschichte</td>\n",
       "      <td>5</td>\n",
       "    </tr>\n",
       "    <tr>\n",
       "      <th>79</th>\n",
       "      <td>mystery</td>\n",
       "      <td>3</td>\n",
       "    </tr>\n",
       "    <tr>\n",
       "      <th>80</th>\n",
       "      <td>detective</td>\n",
       "      <td>1</td>\n",
       "    </tr>\n",
       "  </tbody>\n",
       "</table>\n",
       "<p>81 rows × 2 columns</p>\n",
       "</div>"
      ],
      "text/plain": [
       "      category  count\n",
       "0      fiction  40551\n",
       "1      science   2381\n",
       "2          art   1581\n",
       "3        humor   1166\n",
       "4         body   1123\n",
       "..         ...    ...\n",
       "76   imaginary      8\n",
       "77         gay      7\n",
       "78  geschichte      5\n",
       "79     mystery      3\n",
       "80   detective      1\n",
       "\n",
       "[81 rows x 2 columns]"
      ]
     },
     "execution_count": 17,
     "metadata": {},
     "output_type": "execute_result"
    }
   ],
   "source": [
    "for category in common_category:\n",
    "    books.loc[books[books['category'].str.contains(category,na=False)].index,'category_high'] = category\n",
    "\n",
    "category_high_df = pd.DataFrame(books['category_high'].value_counts()).reset_index()\n",
    "category_high_df.columns = ['category','count']\n",
    "category_high_df"
   ]
  },
  {
   "cell_type": "code",
   "execution_count": 18,
   "metadata": {},
   "outputs": [],
   "source": [
    "books.loc[books[books['category'].notna() & books['category_high'].isna()].index, 'category_high']='others'"
   ]
  },
  {
   "attachments": {},
   "cell_type": "markdown",
   "metadata": {},
   "source": [
    "### publisher 와 language 관계 이용하여 language 결측치 채우기"
   ]
  },
  {
   "cell_type": "code",
   "execution_count": 19,
   "metadata": {},
   "outputs": [
    {
     "data": {
      "text/plain": [
       "publisher\n",
       "GlÃ?Â©nat                         36\n",
       "Unionsverlag                      27\n",
       "Bruguera                          15\n",
       "Egmont Franz Schneider Verlag     14\n",
       "Hachette                          13\n",
       "                                  ..\n",
       "Walter De Gruyter Inc              1\n",
       "Nicolai                            1\n",
       "Knjizevna zajednica Novog Sada     1\n",
       "Panamericana Pub Llc               1\n",
       "Information                        1\n",
       "Name: count, Length: 604, dtype: int64"
      ]
     },
     "execution_count": 19,
     "metadata": {},
     "output_type": "execute_result"
    }
   ],
   "source": [
    "pub = books['publisher'].unique()\n",
    "\n",
    "for p in pub:\n",
    "    if not (books[(books['publisher'] == p) & (books['language'].notna())]['language'].value_counts().empty):\n",
    "        books.loc[(books['publisher'] == p) & (books['language'].isna()), 'language'] = books[(books['publisher'] == p) & (books['language'].notna())]['language'].value_counts().index[0]\n",
    "\n",
    "books[(books['publisher'].notna()) & (books['language'].isna())]['publisher'].value_counts()"
   ]
  },
  {
   "attachments": {},
   "cell_type": "markdown",
   "metadata": {},
   "source": [
    "### Merge"
   ]
  },
  {
   "cell_type": "code",
   "execution_count": 20,
   "metadata": {},
   "outputs": [
    {
     "name": "stdout",
     "output_type": "stream",
     "text": [
      "merge 결과 shape:  (306795, 18)\n"
     ]
    }
   ],
   "source": [
    "merge1 = ratings.merge(books, how='left', on='isbn')\n",
    "data = merge1.merge(users, how='inner', on='user_id')\n",
    "print('merge 결과 shape: ', data.shape)"
   ]
  },
  {
   "cell_type": "code",
   "execution_count": 21,
   "metadata": {},
   "outputs": [
    {
     "data": {
      "text/plain": [
       "set()"
      ]
     },
     "execution_count": 21,
     "metadata": {},
     "output_type": "execute_result"
    }
   ],
   "source": [
    "set(ratings['isbn']) - set(books['isbn']) "
   ]
  }
 ],
 "metadata": {
  "kernelspec": {
   "display_name": "base",
   "language": "python",
   "name": "python3"
  },
  "language_info": {
   "codemirror_mode": {
    "name": "ipython",
    "version": 3
   },
   "file_extension": ".py",
   "mimetype": "text/x-python",
   "name": "python",
   "nbconvert_exporter": "python",
   "pygments_lexer": "ipython3",
   "version": "3.9.12"
  },
  "orig_nbformat": 4
 },
 "nbformat": 4,
 "nbformat_minor": 2
}
